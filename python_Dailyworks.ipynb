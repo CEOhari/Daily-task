{
 "cells": [
  {
   "cell_type": "code",
   "execution_count": null,
   "metadata": {
    "id": "Pmmyw6Ke64jJ"
   },
   "outputs": [],
   "source": [
    "\"\"\"\n",
    "Variable :\n",
    "A variable is a name that refers to a value stored in the computer's memory.\n",
    "Variables are used to hold data that can be manipulated and referenced throughout a program.\n",
    "\n",
    "Naming Rules:\n",
    "\n",
    "Variable names must start with a letter (a-z, A-Z) or an underscore (_).\n",
    "The rest of the name can include letters, digits (0-9), and underscores.\n",
    "Variable names are case-sensitive (myVar and myvar are different).\n",
    "\n",
    "nameQy= \"anjana\"\n",
    "print(name)\n",
    "\n",
    "int=10\n",
    "add= \"anjana\"\n",
    "123= \"asdf\"\n",
    "@ds= \"qwr\"\n",
    "\n",
    "as = \"qwer\"\n",
    "as_12 = \"qwrtg\"\n",
    "as1 = \"qweer\"\n",
    "_as = \"dsa\"\n",
    "as df =\"ert\"\n",
    "Common Variable Types:\n",
    "\n",
    "Integers: x = 10\n",
    "Floats: y = 3.14\n",
    "double : z =3.14556789912345678\n",
    "Strings:\n",
    "name = \"Alice\" , \"Bob\", \"Charlie\",1,23,4.5,\n",
    "name2 = 'Bob',\n",
    "name3 = \"alice123\"\n",
    "name4 = \"12\"\n",
    "\n",
    "a = \"asdd\" # string\n",
    "a= 123 # integer\n",
    "a = 123.45 # float\n",
    "a = \"as\",\"sa\" #not valid\n",
    "\n",
    "a =[1 ,2,3,4,5,]\n",
    "\n",
    "type(name)\n",
    "type(name2)\n",
    "type(name3)\n",
    "type(name4)\n",
    "\n",
    "Lists: my_list = [1, 2, 3, \"aj\" ,\"anj12\" ,3.14] = heterogenous elements - mutable\n",
    "Tuples: my_tuple = (4, 5, 6,\"anj\",3.14) = heterogenous elements -immutable\n",
    "\n",
    "print(\"anjana\")\n",
    "\"\"\""
   ]
  },
  {
   "cell_type": "code",
   "execution_count": 16,
   "metadata": {},
   "outputs": [
    {
     "name": "stdout",
     "output_type": "stream",
     "text": [
      "3.143\n",
      "<class 'str'>\n",
      "22\n",
      "<class 'int'>\n"
     ]
    }
   ],
   "source": [
    "x=22\n",
    "y = 7\n",
    "\n",
    "#print(x/y)\n",
    "print(round((x/y) ,3))\n",
    "\n",
    "a =\"12\"\n",
    "print(type(a))\n",
    "b=int(a)\n",
    "c=10\n",
    "print(b+c)\n",
    "print(type(b))"
   ]
  },
  {
   "cell_type": "code",
   "execution_count": null,
   "metadata": {
    "id": "H4HLcso67YcZ"
   },
   "outputs": [],
   "source": [
    "# Assigning values to variables\n",
    "x = 5\n",
    "y = \"Hello, World!\"\n",
    "\n",
    "\n",
    "\n",
    "# Printing variable values\n",
    "print(x)  # Output: 5\n",
    "print(y)  # Output: Hello, World!\n",
    "\n",
    "# Reassigning variables\n",
    "x = 3.14\n",
    "y = 42\n",
    "\n",
    "print(x)  # Output: 3.14\n",
    "print(y)  # Output: 42\n",
    "\n",
    "x= \"asd\"\n",
    "y= \"123\"\n",
    "A=\"ASDDF\"\n",
    "print(x)\n",
    "print(y)\n",
    "# Printing variable types\n",
    "print(type(x))  # Output: <class 'float'>\n",
    "print(type(y))  # Output: <class 'int'>"
   ]
  },
  {
   "cell_type": "code",
   "execution_count": 20,
   "metadata": {},
   "outputs": [
    {
     "name": "stdout",
     "output_type": "stream",
     "text": [
      "12\n"
     ]
    }
   ],
   "source": [
    "a= \"qwer\"\n",
    "\n",
    "a= \"123\"\n",
    "\n",
    "a= \"qsvv\"\n",
    "\n",
    "a= 12\n",
    "\n",
    "b= 12\n",
    "\n",
    "print(a)"
   ]
  },
  {
   "cell_type": "code",
   "execution_count": null,
   "metadata": {
    "colab": {
     "base_uri": "https://localhost:8080/"
    },
    "id": "EYtxwKf373Qv",
    "outputId": "08e932b0-960e-412f-c753-17c72e3f3985"
   },
   "outputs": [
    {
     "name": "stdout",
     "output_type": "stream",
     "text": [
      "enter your name:john\n",
      "john\n",
      "hi ! john\n",
      "enter your age:15\n",
      "15\n",
      "your age is 15\n"
     ]
    }
   ],
   "source": [
    "name = input (\"enter your name:\")\n",
    "print(name)\n",
    "print(\"hi !\", name)\n",
    "\n",
    "\n",
    "\n",
    "age = input(\"enter your age:\")\n",
    "print(age)\n",
    "print(\"your age is\", age)"
   ]
  },
  {
   "cell_type": "code",
   "execution_count": 22,
   "metadata": {},
   "outputs": [
    {
     "name": "stdout",
     "output_type": "stream",
     "text": [
      "user enter your name :john\n",
      "hi , how are you ? mr/ms/mrs . john\n"
     ]
    }
   ],
   "source": [
    "name = input(\"user enter your name :\")\n",
    "\n",
    "print(\"hi , how are you ? mr/ms/mrs .\", name)"
   ]
  },
  {
   "cell_type": "code",
   "execution_count": null,
   "metadata": {
    "colab": {
     "base_uri": "https://localhost:8080/"
    },
    "id": "MDymwbaV8eNs",
    "outputId": "c98c56f9-d84c-482e-c35c-adaa3c28afea"
   },
   "outputs": [
    {
     "name": "stdout",
     "output_type": "stream",
     "text": [
      "<class 'str'>\n",
      "<class 'int'>\n",
      "<class 'int'>\n",
      "<class 'str'>\n",
      "<class 'float'>\n",
      "<class 'bool'>\n"
     ]
    }
   ],
   "source": [
    "a = \"12\"\n",
    "print(type(a))\n",
    "\n",
    "b = \"wqwer\"\n",
    "print(type(b)) #o/p str\n",
    "\n",
    "a = int(a)\n",
    "print(type(a))\n",
    "\n",
    "b = 123\n",
    "print(type(b))\n",
    "\n",
    "b = str(b)\n",
    "print(type(b))\n",
    "\n",
    "b = float(b)\n",
    "print(type(b))\n",
    "\n",
    "b = bool(b)\n",
    "print(type(b))\n",
    "\n",
    "\n"
   ]
  },
  {
   "cell_type": "code",
   "execution_count": null,
   "metadata": {},
   "outputs": [],
   "source": [
    "list1 = [1,23,45,6] #list is used to store sequence of value/element , data type : int, float, str,alnum . # mutable \n",
    "list2 = [1,2,3,\"abc\",\"as\",3.14] # heterogenous element -values/element of different datatype . #homogenous variable = same datatype "
   ]
  },
  {
   "cell_type": "code",
   "execution_count": 24,
   "metadata": {},
   "outputs": [
    {
     "name": "stdout",
     "output_type": "stream",
     "text": [
      "tuple1: (1, 23, 4, 5)\n"
     ]
    }
   ],
   "source": [
    "tuple1 = (1,23,4,5) #immutable\n",
    "tuple2 =(1,2,3,\"abd\",\"as\")\n",
    "\n",
    "print(\"tuple1:\",tuple1)\n",
    "\n",
    "#tuple(list1)\n",
    "\n",
    "\n"
   ]
  },
  {
   "cell_type": "code",
   "execution_count": 26,
   "metadata": {},
   "outputs": [
    {
     "ename": "NameError",
     "evalue": "name 'getcontext' is not defined",
     "output_type": "error",
     "traceback": [
      "\u001b[1;31m---------------------------------------------------------------------------\u001b[0m",
      "\u001b[1;31mNameError\u001b[0m                                 Traceback (most recent call last)",
      "Cell \u001b[1;32mIn[26], line 2\u001b[0m\n\u001b[0;32m      1\u001b[0m \u001b[38;5;66;03m#list1=[1,2,3]\u001b[39;00m\n\u001b[1;32m----> 2\u001b[0m gc \u001b[38;5;241m=\u001b[39m\u001b[43mgetcontext\u001b[49m()\n\u001b[0;32m      3\u001b[0m getcontext()\u001b[38;5;241m.\u001b[39mprec \u001b[38;5;241m=\u001b[39m \u001b[38;5;241m73\u001b[39m\n\u001b[0;32m      4\u001b[0m numb1 \u001b[38;5;241m=\u001b[39m \u001b[38;5;28mfloat\u001b[39m(\u001b[38;5;241m3.14234\u001b[39m)\n",
      "\u001b[1;31mNameError\u001b[0m: name 'getcontext' is not defined"
     ]
    }
   ],
   "source": [
    "#list1=[1,2,3]\n",
    "gc = getcontext()\n",
    "getcontext().prec = 73\n",
    "numb1 = float(3.14234)\n",
    "print(numb1)\n"
   ]
  },
  {
   "cell_type": "code",
   "execution_count": null,
   "metadata": {
    "colab": {
     "base_uri": "https://localhost:8080/"
    },
    "id": "mqbISY4_98-k",
    "outputId": "c4c8dd4e-822a-4e32-8579-426376e917fc"
   },
   "outputs": [
    {
     "name": "stdout",
     "output_type": "stream",
     "text": [
      "15\n",
      "5\n",
      "0\n",
      "2\n",
      "True\n",
      "False\n",
      "False\n",
      "True\n",
      "False\n",
      "True\n",
      "True\n",
      "True\n",
      "False\n",
      "0.0\n",
      "False\n",
      "True\n",
      "True\n"
     ]
    }
   ],
   "source": [
    "x = 10\n",
    "y = 5\n",
    "\n",
    "# Arithmetic Operators\n",
    "print(x + y)  # Output: 15\n",
    "print(x - y)  # Output: 5\n",
    "print(x%y)\n",
    "print(x//y)\n",
    "\n",
    "# Comparison Operators\n",
    "print(x > y)\n",
    " # Output: True\n",
    "print(x<y)\n",
    "print(x == y) # Output: False\n",
    "print(x!=y)\n",
    "print(x<=y)\n",
    "print(x>=y)\n",
    "\n",
    "# Logical Operators\n",
    "print(x > 0 and y > 0) # Output: True\n",
    "print(x > 0 or y < 0)  # Output: True\n",
    "print(not(x > 0))\n",
    "\"\"\"and = true and true o/p true\n",
    "or = true or false o/p true\n",
    "not = not true o/p false\n",
    "\"\"\"\n",
    "# Assignment Operators\n",
    "x += y  # x = x + y\n",
    "x=5\n",
    "x = x+5 #o/p =x =5+5 =10 . x=10 =10+5\n",
    "x+=5\n",
    "x-=5\n",
    "x*=5\n",
    "x/=5\n",
    "x%=5\n",
    "x//=5\n",
    "x**=5\n",
    "print(x) # Output: 15\n",
    "\n",
    "# Membership Operators :in\n",
    "list = [1, 2, 3, 4, 5]\n",
    "print(x in list)  # Output: False\n",
    "print(3 in list)  # Output: True\n",
    "\n",
    "list1= [\"a\",\"b\",1,2,3]\n",
    "print(\"a\" in list1)\n"
   ]
  },
  {
   "cell_type": "code",
   "execution_count": null,
   "metadata": {
    "colab": {
     "base_uri": "https://localhost:8080/"
    },
    "id": "7dyxmzpIDY09",
    "outputId": "b4610d0b-9860-4dea-bf5a-ed502f0062cf"
   },
   "outputs": [
    {
     "name": "stdout",
     "output_type": "stream",
     "text": [
      "True\n",
      "False\n",
      "2\n"
     ]
    }
   ],
   "source": [
    "list2= [\"a\",\"a\",\"ba\",\"c\",1,2,3,1]\n",
    "print(\"a\" in list2) # checking value in variable\n",
    "print(2.3 in list2)\n",
    "print(list2.count(\"a\"))"
   ]
  },
  {
   "cell_type": "code",
   "execution_count": null,
   "metadata": {
    "id": "y1s7UVVhFd9r"
   },
   "outputs": [],
   "source": [
    "\"\"\"\n",
    "Conditional statements in Python allow you to execute different blocks of code based on certain conditions.\n",
    "The primary conditional statements in Python are if, elif, and else.\"\"\""
   ]
  },
  {
   "cell_type": "code",
   "execution_count": null,
   "metadata": {
    "id": "gvhzC_rgI4Om"
   },
   "outputs": [],
   "source": [
    "\"\"\"\n",
    "if Statement:\n",
    "\n",
    "    The if statement is used to execute a block of code only if a specified condition is True.\n",
    "\n",
    "The if statement evaluates a condition (an expression that returns a boolean value).\n",
    "If the condition is True, the code block under the if statement is executed.\"\"\""
   ]
  },
  {
   "cell_type": "code",
   "execution_count": null,
   "metadata": {
    "colab": {
     "base_uri": "https://localhost:8080/"
    },
    "id": "XrU4dhSTJJ-I",
    "outputId": "a91afea8-df3f-4e3d-b4d3-0480928cbdff"
   },
   "outputs": [
    {
     "name": "stdout",
     "output_type": "stream",
     "text": [
      "a is greater than 5\n",
      "5\n"
     ]
    }
   ],
   "source": [
    "a = 10\n",
    "if a > 5:  #condition - true\n",
    "  print(\"a is greater than 5\")\n",
    "\n",
    "a=7\n",
    "b=2\n",
    "if a<4 : # False\n",
    "  print((a+b))\n",
    "\n",
    "a=7\n",
    "b=2\n",
    "if a<=b : # False , if this if statement turns false then else statement will be executed\n",
    "  print((a-b))\n",
    "elif a<b : #else -if ,false\n",
    "  print((a+b))\n",
    "elif a>b : #true\n",
    "  print((a+b))\n",
    "else :\n",
    "  print(\"a is greater than b\")\n"
   ]
  },
  {
   "cell_type": "code",
   "execution_count": null,
   "metadata": {
    "id": "7fXuKYycJTyA"
   },
   "outputs": [],
   "source": [
    "\"\"\"\n",
    "if else statement:\n",
    "    if condition:\n",
    "        do something\n",
    "    else:\n",
    "        do something else\n",
    "\n",
    "the if else statement evaluates a condition (an expression that returns a boolean value).\n",
    "If the condition is True, the code block under the if statement is executed.\n",
    "If the condition is False, the code block under the else statement is executed.\"\"\""
   ]
  },
  {
   "cell_type": "code",
   "execution_count": null,
   "metadata": {
    "id": "95Y6lDknJnse"
   },
   "outputs": [],
   "source": [
    "a= 10\n",
    "if a > 5:\n",
    "    print(\"a is greater than 5\")\n",
    "else:\n",
    "    print(\"a is less than 5\")"
   ]
  },
  {
   "cell_type": "code",
   "execution_count": null,
   "metadata": {
    "id": "HPGqhROWJrKE"
   },
   "outputs": [],
   "source": [
    "\"\"\"\n",
    "elif statement syntax\n",
    "    if condition:\n",
    "        do something\n",
    "    elif condition:\n",
    "        do something else\n",
    "    else:\n",
    "        do something else\n",
    "\n",
    "The elif statement is short for else if.\n",
    "Elif if statement evaluates a condition (an expression that returns a boolean value)."
   ]
  },
  {
   "cell_type": "code",
   "execution_count": null,
   "metadata": {
    "id": "JNFaqnFEN1yB"
   },
   "outputs": [],
   "source": [
    "a= 10\n",
    "if a > 5:\n",
    "    print(\"a is greater than 5\")\n",
    "elif a == 5:\n",
    "    print(\"a is equal to 5\")\n",
    "else:\n",
    "    print(\"a is less than 5\")"
   ]
  },
  {
   "cell_type": "code",
   "execution_count": null,
   "metadata": {
    "id": "B_RZnLbLN-e6"
   },
   "outputs": [],
   "source": [
    "\n",
    "# Nested if statements:\n",
    "\"\"\"\n",
    "if condition:\n",
    "      if condition:\n",
    "          do something\n",
    "      else:\n",
    "          do something else\n",
    "else:\n",
    "    do something else\n",
    "\"\"\"\n",
    "\n",
    "\"\"\"\n",
    "nested if statements are used to check multiple conditions in a single if statement."
   ]
  },
  {
   "cell_type": "code",
   "execution_count": null,
   "metadata": {
    "id": "QbZX3VJmOcBR"
   },
   "outputs": [],
   "source": [
    "a = 10\n",
    "b = 5\n",
    "\n",
    "if a > 5:\n",
    "    if b < 3:\n",
    "        print(\"a is greater than 5 and b is greater than 3\")"
   ]
  },
  {
   "cell_type": "code",
   "execution_count": null,
   "metadata": {
    "colab": {
     "base_uri": "https://localhost:8080/"
    },
    "id": "nKq2kdAZOjHB",
    "outputId": "cdb12946-1486-488f-8f5e-1d803d1820d0"
   },
   "outputs": [
    {
     "name": "stdout",
     "output_type": "stream",
     "text": [
      "a is  greater than 5\n"
     ]
    }
   ],
   "source": [
    "a= 10\n",
    "b= 20\n",
    "\n",
    "if a < 5:\n",
    "    if b < 3:\n",
    "        print(\"a is greater than 5 and b is greater than 3\")\n",
    "    else:\n",
    "        print(\"a is greater than 5 and b is not greater than 3\")\n",
    "else:\n",
    "    print(\"a is  greater than 5\")"
   ]
  },
  {
   "cell_type": "code",
   "execution_count": null,
   "metadata": {
    "colab": {
     "base_uri": "https://localhost:8080/"
    },
    "id": "WHwBNDMgP8C6",
    "outputId": "97816eaa-2683-421d-882e-8da96d251687"
   },
   "outputs": [
    {
     "name": "stdout",
     "output_type": "stream",
     "text": [
      "1\n",
      "2\n",
      "3\n",
      "4\n",
      "5\n",
      "6\n",
      "1\n",
      "2\n",
      "3\n",
      "4\n",
      "5\n"
     ]
    }
   ],
   "source": [
    "\"\"\"\n",
    "looping statements in Python allow you to execute a block of code repeatedly.\n",
    "There are two types of loops in Python: while loops and for loops.\n",
    "\"\"\"\n",
    "\n",
    "\"\"\"\n",
    "The while Loop\n",
    "With the while loop we can execute a set of statements as long as a condition is true.\n",
    "\n",
    "The for loop is used for iterating over a sequence (that is either a list, a tuple, a dictionary, a set, or a string).\n",
    "\"\"\"\n",
    "# Print i as long as i is less than 6:\n",
    "i = 1\n",
    "while i <= 6: # while condition # True\n",
    "  print(i)\n",
    "  i += 1  # i = i+1 <6\n",
    "\n",
    "a =2\n",
    "while a>5:\n",
    "  print(a)\n",
    "  a-=1\n",
    "\n",
    "i = 1\n",
    "for asd in range(1, 6):\n",
    "  print(asd)\n",
    "\n"
   ]
  },
  {
   "cell_type": "code",
   "execution_count": 1,
   "metadata": {},
   "outputs": [
    {
     "name": "stdout",
     "output_type": "stream",
     "text": [
      "22\n",
      "-2\n",
      "120\n",
      "10\n",
      "0\n"
     ]
    }
   ],
   "source": [
    "x= 10\n",
    "y=12\n",
    "#arithemetic operators \n",
    "print(x+y) #Output: 22\n",
    "print(x-y) #Output: 10\n",
    "print(x*y)\n",
    "print(x%y)\n",
    "print(x//y)"
   ]
  },
  {
   "cell_type": "code",
   "execution_count": 11,
   "metadata": {},
   "outputs": [
    {
     "name": "stdout",
     "output_type": "stream",
     "text": [
      "False\n",
      "False\n",
      "True\n",
      "False\n",
      "True\n",
      "True\n"
     ]
    }
   ],
   "source": [
    "#comparison Operators\n",
    "a=10\n",
    "b=10\n",
    "print(a>b)\n",
    "#Output:true\n",
    "print(a<b)\n",
    "print(a==b)\n",
    "print(a!=b)\n",
    "print(a<=a)\n",
    "print(a>=b)\n",
    "\n"
   ]
  },
  {
   "cell_type": "code",
   "execution_count": 2,
   "metadata": {},
   "outputs": [
    {
     "name": "stdout",
     "output_type": "stream",
     "text": [
      "False\n"
     ]
    }
   ],
   "source": [
    "#Logical operator \n",
    "as1= 10\n",
    "as2 = 5\n",
    "print(as1>11 and as2<=5)"
   ]
  },
  {
   "cell_type": "code",
   "execution_count": 21,
   "metadata": {},
   "outputs": [
    {
     "name": "stdout",
     "output_type": "stream",
     "text": [
      "True\n"
     ]
    }
   ],
   "source": [
    "as1= 10\n",
    "as2 = 2\n",
    "print(as1>1 and as2<=5)"
   ]
  },
  {
   "cell_type": "code",
   "execution_count": 23,
   "metadata": {},
   "outputs": [
    {
     "name": "stdout",
     "output_type": "stream",
     "text": [
      "False\n"
     ]
    }
   ],
   "source": [
    "as1= -10\n",
    "as2 = 2\n",
    "print(as1>1 and as2<=5)"
   ]
  },
  {
   "cell_type": "code",
   "execution_count": 39,
   "metadata": {},
   "outputs": [
    {
     "name": "stdout",
     "output_type": "stream",
     "text": [
      "False\n"
     ]
    }
   ],
   "source": [
    "as1= 0\n",
    "as2 = 5\n",
    "print(as1>5 and as2<=0)"
   ]
  },
  {
   "cell_type": "code",
   "execution_count": 42,
   "metadata": {},
   "outputs": [
    {
     "name": "stdout",
     "output_type": "stream",
     "text": [
      "False\n",
      "True\n",
      "True\n",
      "True\n"
     ]
    }
   ],
   "source": [
    "#Logical Operator \n",
    "as1= 10\n",
    "as2 = 5 #atleast one condition should be satisfied\n",
    "print(as1>11 or as2>5)  #false false  o/p false\n",
    "print(as1>11 or as2 <=5) #false true o/p true\n",
    "print(as1 <=10 or as2 >5) #true false o/p true\n",
    "print(as1 ==10 or as2 ==5) #true true # o/p :true"
   ]
  },
  {
   "cell_type": "code",
   "execution_count": 46,
   "metadata": {},
   "outputs": [
    {
     "name": "stdout",
     "output_type": "stream",
     "text": [
      "True\n",
      "False\n",
      "True\n",
      "False\n"
     ]
    }
   ],
   "source": [
    "#OR operator \n",
    "A=10\n",
    "B=12 #atleast one conditon should be satisfied\n",
    "print(A>11 or B>5)\n",
    "print(A>11 or B>=13)\n",
    "print(A<=11 or B>5)\n",
    "print(A==11 or B==5)"
   ]
  },
  {
   "cell_type": "code",
   "execution_count": 52,
   "metadata": {},
   "outputs": [
    {
     "name": "stdout",
     "output_type": "stream",
     "text": [
      "a 1\n",
      "b 2.6\n",
      "2.6\n",
      "False\n"
     ]
    }
   ],
   "source": [
    "a=1\n",
    "b=2.6\n",
    "print(\"a\",a)\n",
    "print(\"b\",b)\n",
    "a=b \n",
    "print(a)\n",
    "a=1.1\n",
    "b=1\n",
    "print(a==b)"
   ]
  },
  {
   "cell_type": "code",
   "execution_count": 58,
   "metadata": {},
   "outputs": [
    {
     "name": "stdout",
     "output_type": "stream",
     "text": [
      "True\n"
     ]
    }
   ],
   "source": [
    "#Output: true x=10, Y=5, cond1=5(true),cond2=s(true)0/p=true\n",
    "print(x < y or y <00)\n"
   ]
  },
  {
   "cell_type": "code",
   "execution_count": 62,
   "metadata": {},
   "outputs": [
    {
     "name": "stdout",
     "output_type": "stream",
     "text": [
      "False\n",
      "True\n",
      "3\n"
     ]
    }
   ],
   "source": [
    "#x=10\n",
    "print(not(x > 0))  #satistfied = true , not =false\n",
    "print(not(x<0)) # cond =false o/p true\n",
    "\n",
    "a=1\n",
    "a+=2 #a=a+2\n",
    "print(a) #3\n",
    "#prev value of a ? 1\n",
    "#cuurent value of a? 3"
   ]
  },
  {
   "cell_type": "code",
   "execution_count": 64,
   "metadata": {},
   "outputs": [
    {
     "name": "stdout",
     "output_type": "stream",
     "text": [
      "3\n",
      "1\n",
      "2\n",
      "1.0\n",
      "1.0\n",
      "0.0\n"
     ]
    }
   ],
   "source": [
    "a=1\n",
    "a+=2 #a=a+2\n",
    "print(a) #3\n",
    "#prev value of a ? 1\n",
    "#cuurent value of a? 3\n",
    "a-=2\n",
    "print(a)\n",
    "a*=2\n",
    "print(a)\n",
    "a/=2\n",
    "print(a)\n",
    "a%=2\n",
    "print(a)\n",
    "a//=2\n",
    "print(a)"
   ]
  },
  {
   "cell_type": "code",
   "execution_count": 68,
   "metadata": {},
   "outputs": [
    {
     "name": "stdout",
     "output_type": "stream",
     "text": [
      "4\n",
      "0\n",
      "6\n",
      "2.0\n",
      "1\n",
      "3\n"
     ]
    }
   ],
   "source": [
    "#Assignment Operators\n",
    "a=2\n",
    "a+=2 #a=a+2\n",
    "print(a) #3\n",
    "#previous  value of a ? 1\n",
    "#cuurent value of a? 3\n",
    "b=2\n",
    "b-=2 # b= b-2\n",
    "print(b)\n",
    "c= 3\n",
    "c*=2 #c=c*2\n",
    "print(c)\n",
    "\n",
    "d=4\n",
    "d/=2 #d= d/2\n",
    "print(d)\n",
    "\n",
    "e=5\n",
    "e%=2 #e =e%2\n",
    "print(e)\n",
    "\n",
    "f= 6\n",
    "f//=2 #f= f//2\n",
    "print(f)"
   ]
  },
  {
   "cell_type": "code",
   "execution_count": 7,
   "metadata": {},
   "outputs": [
    {
     "name": "stdout",
     "output_type": "stream",
     "text": [
      "False\n",
      "True\n",
      "True\n"
     ]
    }
   ],
   "source": [
    "# Membership Operators :in\n",
    "list1 =[1,2,3,4]\n",
    "list2=[\"as1\",\"sa\"]\n",
    "list3 = [1, 2, 3, 4, 5,\"as\",\"sa\",3.1456, True] #heterogenous\n",
    "print(\"x\" in list1)  # Output: False whether x is there present in list1\n",
    "print(\"as1\" in list2)\n",
    "print(3.1456 in list3)  # Output: True"
   ]
  },
  {
   "cell_type": "code",
   "execution_count": 8,
   "metadata": {},
   "outputs": [
    {
     "name": "stdout",
     "output_type": "stream",
     "text": [
      "True\n"
     ]
    }
   ],
   "source": [
    "list = [1, 2, 3-4, 4, 5]\n",
    "print(-1 in list)"
   ]
  },
  {
   "cell_type": "code",
   "execution_count": 19,
   "metadata": {},
   "outputs": [
    {
     "name": "stdout",
     "output_type": "stream",
     "text": [
      "12\n",
      "the value of a is greater than the given value 13\n",
      "14\n"
     ]
    }
   ],
   "source": [
    "b=12\n",
    "print(b)\n",
    "\n",
    "#if class\n",
    "a=13\n",
    "if a>10:#condition = not satisfied, False if the condition satisfies(true ) then execute the block of code/statement\n",
    "    print(\"the value of a is greater than the given value\", a)\n",
    "    print(a+1)"
   ]
  },
  {
   "cell_type": "code",
   "execution_count": 20,
   "metadata": {},
   "outputs": [
    {
     "name": "stdout",
     "output_type": "stream",
     "text": [
      "q and w is greater than 5\n"
     ]
    }
   ],
   "source": [
    "q=10\n",
    "w=12\n",
    "if q>5 and w>5:#true , true\n",
    "    print(\"q and w is greater than 5\")"
   ]
  },
  {
   "cell_type": "code",
   "execution_count": 25,
   "metadata": {},
   "outputs": [
    {
     "name": "stdout",
     "output_type": "stream",
     "text": [
      "e: 10 r: 12\n"
     ]
    }
   ],
   "source": [
    "e =10\n",
    "r= 12\n",
    "if e>5 or r<5: #true ,false\n",
    "    print(\"e:\",e ,\"r:\",r)\n",
    "\n",
    "\n",
    "i =15\n",
    "r= 12\n",
    "if i<5 or r<5: #true ,false\n",
    "    print(\"i:\",i ,\"r:\",r)\n",
    "    "
   ]
  },
  {
   "cell_type": "code",
   "execution_count": 28,
   "metadata": {},
   "outputs": [
    {
     "name": "stdout",
     "output_type": "stream",
     "text": [
      "t: 12\n"
     ]
    }
   ],
   "source": [
    "t=12\n",
    "if not(t<10): #if the condition =false,\n",
    "    print(\"t:\",t)"
   ]
  },
  {
   "cell_type": "code",
   "execution_count": 29,
   "metadata": {},
   "outputs": [
    {
     "name": "stdout",
     "output_type": "stream",
     "text": [
      "y is grater than the given value 13\n"
     ]
    }
   ],
   "source": [
    "t = 12\n",
    "if not(t>10): #cond inside is true, not operator : false\n",
    "    print(\"t:\",t) \n",
    "    \n",
    "y =13\n",
    "if not y<10: #cond inside is false, not operator : true\n",
    "    print(\"y is grater than the given value\",y)"
   ]
  },
  {
   "cell_type": "code",
   "execution_count": 30,
   "metadata": {},
   "outputs": [
    {
     "name": "stdout",
     "output_type": "stream",
     "text": [
      "the value of a is less than the given value 10  1\n"
     ]
    }
   ],
   "source": [
    "a= 1\n",
    "if a<10: #condition = not satisfied , False . if the condition satisfies(true ) then execute the block of code/statement, comparision\n",
    "    print(\"the value of a is less than the given value 10 \", a) #st 1\n",
    "else :\n",
    "    print (\"a is greater than the given value 10\",a)"
   ]
  },
  {
   "cell_type": "code",
   "execution_count": 34,
   "metadata": {},
   "outputs": [
    {
     "name": "stdout",
     "output_type": "stream",
     "text": [
      "the value of a is less than the given value 10  10\n"
     ]
    }
   ],
   "source": [
    "a= 10\n",
    "if a==10: #condition = not satisfied , False . if the condition satisfies(true ) then execute the block of code/statement, comparision\n",
    "    print(\"the value of a is less than the given value 10 \", a) #st 1\n",
    "else :\n",
    "    print (\"a is greater than the given value 10\",a)"
   ]
  },
  {
   "cell_type": "code",
   "execution_count": 35,
   "metadata": {},
   "outputs": [
    {
     "name": "stdout",
     "output_type": "stream",
     "text": [
      "a is equal to 11: 11\n",
      "12\n"
     ]
    }
   ],
   "source": [
    "#if elif\n",
    "a= 11\n",
    "if a<10 and a<9: #condition = not satisfied , False . if the condition satisfies(true ) then execute the block of code/statement, comparision\n",
    "    print(\"the value of a is less than the given value 10 \", a) #st 1\n",
    "    print(a+2)\n",
    "elif a ==15 : #condition is false\n",
    "    print(\"a is equal to 15\") #st2\n",
    "elif a==11: #condition = true ,else if\n",
    "    print(\"a is equal to 11:\",a) #st3\n",
    "    print(a+1)\n",
    "else :\n",
    "    print(\"the above conditions are not met. the value of a is\",a)"
   ]
  },
  {
   "cell_type": "code",
   "execution_count": 54,
   "metadata": {},
   "outputs": [
    {
     "name": "stdout",
     "output_type": "stream",
     "text": [
      "x is equal to 19: 19\n",
      "20\n"
     ]
    }
   ],
   "source": [
    "x=19\n",
    "if x==10 and x==19:\n",
    "    print(\"the value of x is less than given value 10\",x)\n",
    "    print(x+1)\n",
    "elif x<15: #condition is false\n",
    "    print(\"x is equal to 15\")\n",
    "elif x==19: #condition is false\n",
    "    print(\"x is equal to 19:\",x)\n",
    "    print(x+1)\n",
    "else :\n",
    "    print(\"the above condition are not met.the value of x is\",x)"
   ]
  },
  {
   "cell_type": "code",
   "execution_count": null,
   "metadata": {},
   "outputs": [],
   "source": [
    "03/07/2024"
   ]
  },
  {
   "cell_type": "code",
   "execution_count": 3,
   "metadata": {},
   "outputs": [
    {
     "name": "stdout",
     "output_type": "stream",
     "text": [
      "poor\n"
     ]
    }
   ],
   "source": [
    "grade = \"f\"\n",
    "if grade==\"o\": #false\n",
    "  print(\"outstanding\")\n",
    "elif grade == \"a\": #false\n",
    "  print(\"excellent\")\n",
    "elif grade == \"b\": #false\n",
    "  print(\"good\")\n",
    "elif grade == \"c\": #true\n",
    "  print(\"fair\")\n",
    "else :\n",
    "  print(\"poor\")"
   ]
  },
  {
   "cell_type": "code",
   "execution_count": 16,
   "metadata": {},
   "outputs": [
    {
     "name": "stdout",
     "output_type": "stream",
     "text": [
      "fair\n"
     ]
    }
   ],
   "source": [
    "mark = 80\n",
    "if mark>90: #false\n",
    "  print(\"excellent\")\n",
    "elif mark>80: #false\n",
    "  print(\"good\")\n",
    "elif mark>70: #true\n",
    "  print(\"fair\")\n",
    "else :\n",
    "  print(\"poor\")"
   ]
  },
  {
   "cell_type": "code",
   "execution_count": 17,
   "metadata": {},
   "outputs": [
    {
     "name": "stdout",
     "output_type": "stream",
     "text": [
      "good\n"
     ]
    }
   ],
   "source": [
    "student = 90\n",
    "if student>90: #false \n",
    "    print(\"excellent\")\n",
    "elif student>80: #false\n",
    "    print(\"good\")\n",
    "elif student<70: #true\n",
    "    print(\"fair\")\n",
    "else:\n",
    "    print(\"poor\")"
   ]
  },
  {
   "cell_type": "code",
   "execution_count": 18,
   "metadata": {},
   "outputs": [
    {
     "name": "stdout",
     "output_type": "stream",
     "text": [
      "a is greater\n"
     ]
    }
   ],
   "source": [
    "a=10\n",
    "b=1\n",
    "if a>b: #true\n",
    "    print(\"a is greater\")\n",
    "else: #false \n",
    "    print(\"a is smaller\")\n",
    "    "
   ]
  },
  {
   "cell_type": "code",
   "execution_count": 21,
   "metadata": {},
   "outputs": [
    {
     "name": "stdout",
     "output_type": "stream",
     "text": [
      "outstanding\n",
      "good\n"
     ]
    }
   ],
   "source": [
    "#nested if else\n",
    "mark=91\n",
    "if mark < 100: # true #if mark >110 :#false\n",
    "  print(\"outstanding\")\n",
    "  if mark<90: #false\n",
    "   print(\"excellent\")\n",
    "  elif mark>80: #false\n",
    "   print(\"good\")\n",
    "  elif mark>70: #true\n",
    "   print(\"fair\")\n",
    "  else :\n",
    "   print(\"poor\")\n",
    "else:\n",
    "  print(\"mark is greater than 100\")"
   ]
  },
  {
   "cell_type": "code",
   "execution_count": 23,
   "metadata": {},
   "outputs": [
    {
     "name": "stdout",
     "output_type": "stream",
     "text": [
      "apple\n",
      "banana\n",
      "cherry\n"
     ]
    }
   ],
   "source": [
    "#Loop statement\n",
    "\"\"\"\n",
    "for apple in fruits:\n",
    "    print(apple) #o/p apple\n",
    "for banana in fruits:\n",
    "    print(banana) #o/p banana\n",
    "for cherry in fruits:\n",
    "    print(cherry) #o/p cherry\n",
    "\"\"\"\n",
    "fruits = [\"apple\", \"banana\", \"cherry\"] #execute the block of code/statement\n",
    "#print(fruits)\n",
    "for i  in fruits: # for , fruit = each item in fruits (var)\n",
    "    print(i) \n"
   ]
  },
  {
   "cell_type": "code",
   "execution_count": 24,
   "metadata": {},
   "outputs": [
    {
     "name": "stdout",
     "output_type": "stream",
     "text": [
      "1\n",
      "2\n",
      "3\n",
      "4\n",
      "5\n"
     ]
    }
   ],
   "source": [
    "#example\n",
    "for i in range(1,6):\n",
    "#for i in range(6): 0 -5\n",
    "  print(i)"
   ]
  },
  {
   "cell_type": "code",
   "execution_count": 25,
   "metadata": {},
   "outputs": [
    {
     "data": {
      "text/plain": [
       "'\\nrange (0-6) 0,1,2,3,4,5\\nfor 0 in range(6):\\n  print(0)\\nfor 1 in range(6):\\n  print(1)\\nfor 2 in range(6):\\n  print(2)\\nfor 3 in range(6):\\n  print(3)\\nfor 4 in range(6):\\n  print(4)\\nfor 5 in range(6):\\n  print(5)\\n'"
      ]
     },
     "execution_count": 25,
     "metadata": {},
     "output_type": "execute_result"
    }
   ],
   "source": [
    "#above the program using inside the program \n",
    "\"\"\"\n",
    "range (0-6) 0,1,2,3,4,5\n",
    "for 0 in range(6):\n",
    "  print(0)\n",
    "for 1 in range(6):\n",
    "  print(1)\n",
    "for 2 in range(6):\n",
    "  print(2)\n",
    "for 3 in range(6):\n",
    "  print(3)\n",
    "for 4 in range(6):\n",
    "  print(4)\n",
    "for 5 in range(6):\n",
    "  print(5)\n",
    "\"\"\""
   ]
  },
  {
   "cell_type": "code",
   "execution_count": 1,
   "metadata": {},
   "outputs": [
    {
     "name": "stdout",
     "output_type": "stream",
     "text": [
      "pass\n"
     ]
    }
   ],
   "source": [
    "marks = 95\n",
    "if marks >50:\n",
    "  print(\"pass\")\n",
    "else :\n",
    "  print(\"not pass\")"
   ]
  },
  {
   "cell_type": "markdown",
   "metadata": {},
   "source": [
    "04/07/2024\n"
   ]
  },
  {
   "cell_type": "code",
   "execution_count": 4,
   "metadata": {},
   "outputs": [
    {
     "name": "stdout",
     "output_type": "stream",
     "text": [
      "0 0\n",
      "0 1\n",
      "0 2\n",
      "0 3\n",
      "0 4\n",
      "0 5\n",
      "0 6\n",
      "1 0\n",
      "1 1\n",
      "1 2\n",
      "1 3\n",
      "1 4\n",
      "1 5\n",
      "1 6\n",
      "2 0\n",
      "2 1\n",
      "2 2\n",
      "2 3\n",
      "2 4\n",
      "2 5\n",
      "2 6\n",
      "3 0\n",
      "3 1\n",
      "3 2\n",
      "3 3\n",
      "3 4\n",
      "3 5\n",
      "3 6\n",
      "4 0\n",
      "4 1\n",
      "4 2\n",
      "4 3\n",
      "4 4\n",
      "4 5\n",
      "4 6\n"
     ]
    }
   ],
   "source": [
    "for i in range(5):  # 0,1,2\n",
    "  for j in range(7):# 0,1\n",
    "    print(i, j)"
   ]
  },
  {
   "cell_type": "code",
   "execution_count": 5,
   "metadata": {},
   "outputs": [
    {
     "name": "stdout",
     "output_type": "stream",
     "text": [
      "hello all\n",
      "hello all\n",
      "hello all\n",
      "hello all\n",
      "hello all\n"
     ]
    }
   ],
   "source": [
    "for i in range(1,6):\n",
    "  print(\"hello all\")"
   ]
  },
  {
   "cell_type": "code",
   "execution_count": 6,
   "metadata": {},
   "outputs": [
    {
     "name": "stdout",
     "output_type": "stream",
     "text": [
      "2\n",
      "4\n",
      "6\n",
      "8\n",
      "10\n",
      "12\n",
      "14\n"
     ]
    }
   ],
   "source": [
    "for i in range(1,15):\n",
    "    if i%2==0: #condition\n",
    "       print(i) "
   ]
  },
  {
   "cell_type": "code",
   "execution_count": 7,
   "metadata": {},
   "outputs": [
    {
     "name": "stdout",
     "output_type": "stream",
     "text": [
      "2\n",
      "4\n",
      "6\n",
      "8\n",
      "10\n"
     ]
    }
   ],
   "source": [
    "for i in range(1, 11):   # 1,2,3,4,5,6,7,8,9,10 \n",
    "   if i%2==0: #condition true \n",
    "    print(i)"
   ]
  },
  {
   "cell_type": "code",
   "execution_count": 8,
   "metadata": {},
   "outputs": [
    {
     "name": "stdout",
     "output_type": "stream",
     "text": [
      "odd number: 1\n",
      "odd number: 3\n",
      "odd number: 5\n",
      "odd number: 7\n",
      "odd number: 9\n"
     ]
    }
   ],
   "source": [
    "for i in range(1, 11):   # 1,2,3,4,5,6,7,8,9,10 \n",
    "   if i%2!=0: #condition true \n",
    "    print(\"odd number:\",i)"
   ]
  },
  {
   "cell_type": "code",
   "execution_count": 9,
   "metadata": {},
   "outputs": [
    {
     "name": "stdout",
     "output_type": "stream",
     "text": [
      "even number: 2\n",
      "even number: 4\n",
      "even number: 6\n",
      "even number: 8\n",
      "even number: 10\n"
     ]
    }
   ],
   "source": [
    "for i in range(1, 11):   # 1,2,3,4,5,6,7,8,9,10 \n",
    "   if i%2==0: #condition true \n",
    "    print(\"even number:\",i)"
   ]
  },
  {
   "cell_type": "code",
   "execution_count": 10,
   "metadata": {},
   "outputs": [
    {
     "name": "stdout",
     "output_type": "stream",
     "text": [
      "h\n",
      "a\n",
      "r\n",
      "i\n",
      "h\n",
      "a\n",
      "r\n",
      "a\n",
      "n\n"
     ]
    }
   ],
   "source": [
    "a=\"hariharan\" # items are store in a \n",
    "for i in a:\n",
    "    print(i)"
   ]
  },
  {
   "cell_type": "code",
   "execution_count": 11,
   "metadata": {},
   "outputs": [
    {
     "name": "stdout",
     "output_type": "stream",
     "text": [
      "d\n",
      "a\n",
      "t\n",
      "a\n",
      "s\n",
      "c\n",
      "i\n",
      "e\n",
      "n\n",
      "c\n",
      "e\n"
     ]
    }
   ],
   "source": [
    "a= \"datascience\" #items = d,a,t,a,s,c,i,e,n,c,e\n",
    "for i in a:\n",
    "  print(i)"
   ]
  },
  {
   "cell_type": "code",
   "execution_count": 17,
   "metadata": {},
   "outputs": [
    {
     "name": "stdout",
     "output_type": "stream",
     "text": [
      "2\n",
      "3\n"
     ]
    },
    {
     "data": {
      "text/plain": [
       "'loop1\\ni = item 1 = 1  ,1<=6 ? true\\n\\nprint(1)\\n\\ni+=1 =1+1 =2  curent i value 2 = i=2\\n\\nloop2\\ni = 2 , i<=6 ,2 <=6 ?true\\nprint(2)\\n\\n2 =2+1 =3 current i value is 3\\n\\nloop3\\ni= 3 , i<=6 ,3<=6 ?true\\nprint(3)\\n\\ni= 3+1 =4 , current i value is 4\\n'"
      ]
     },
     "execution_count": 17,
     "metadata": {},
     "output_type": "execute_result"
    }
   ],
   "source": [
    "i = 2\n",
    "while i <= 3: # while condition # True \n",
    "  print(i)\n",
    "  i += 1\n",
    "\"\"\"loop1\n",
    "i = item 1 = 1  ,1<=6 ? true\n",
    "\n",
    "print(1)\n",
    "\n",
    "i+=1 =1+1 =2  curent i value 2 = i=2\n",
    "\n",
    "loop2\n",
    "i = 2 , i<=6 ,2 <=6 ?true\n",
    "print(2)\n",
    "\n",
    "2 =2+1 =3 current i value is 3\n",
    "\n",
    "loop3\n",
    "i= 3 , i<=6 ,3<=6 ?true\n",
    "print(3)\n",
    "\n",
    "i= 3+1 =4 , current i value is 4\n",
    "\"\"\""
   ]
  },
  {
   "cell_type": "code",
   "execution_count": 16,
   "metadata": {},
   "outputs": [
    {
     "data": {
      "text/plain": [
       "'\\nloop 1\\n\\na=2\\nwhile condition : a>0 ? 2 >0 ? true . print(a) o/p:2   \\n\\ndecrement : a-=1 ,2-1 =1 , current a value is 1\\n\\nloop2 \\n\\na=1\\nwhile condition :a>0 ,1>0 ?true . print(a) o/p :1\\n\\ndecrement : a-=1 ,a=a-1, 1-1 = 0 \\n\\nloop3\\n\\na=0\\nwhile condition :a>0 , 0>0? false .break\\n\\n'"
      ]
     },
     "execution_count": 16,
     "metadata": {},
     "output_type": "execute_result"
    }
   ],
   "source": [
    "a =1\n",
    "while a<0:\n",
    "  print(a)\n",
    "  a-=1\n",
    "\"\"\"\n",
    "loop 1\n",
    "\n",
    "a=2\n",
    "while condition : a>0 ? 2 >0 ? true . print(a) o/p:2   \n",
    "\n",
    "decrement : a-=1 ,2-1 =1 , current a value is 1\n",
    "\n",
    "loop2 \n",
    "\n",
    "a=1\n",
    "while condition :a>0 ,1>0 ?true . print(a) o/p :1\n",
    "\n",
    "decrement : a-=1 ,a=a-1, 1-1 = 0 \n",
    "\n",
    "loop3\n",
    "\n",
    "a=0\n",
    "while condition :a>0 , 0>0? false .break\n",
    "\n",
    "\"\"\"    "
   ]
  },
  {
   "cell_type": "code",
   "execution_count": 18,
   "metadata": {},
   "outputs": [
    {
     "name": "stdout",
     "output_type": "stream",
     "text": [
      "count: 0\n",
      "count: 1\n",
      "count: 2\n",
      "count: 3\n",
      "count: 4\n"
     ]
    }
   ],
   "source": [
    "count=0\n",
    "while count<5:\n",
    "        print(\"count:\",count)\n",
    "        count+=1"
   ]
  },
  {
   "cell_type": "code",
   "execution_count": 1,
   "metadata": {},
   "outputs": [
    {
     "name": "stdout",
     "output_type": "stream",
     "text": [
      "hello all\n",
      "hello all\n",
      "hello all\n",
      "hello all\n",
      "hello all\n",
      "0\n",
      "1\n",
      "2\n",
      "3\n",
      "4\n",
      "5\n"
     ]
    }
   ],
   "source": [
    "for i in range(1,6):\n",
    "  print(\"hello all\")\n",
    "\n",
    "#----\n",
    "\n",
    "for i in range(6): #0,1,2,3,4,5  # 0 =hello ,1= hello ,2= hello ....\n",
    "  print(i)"
   ]
  },
  {
   "cell_type": "code",
   "execution_count": null,
   "metadata": {},
   "outputs": [],
   "source": [
    "#05/07/2024"
   ]
  },
  {
   "cell_type": "code",
   "execution_count": 2,
   "metadata": {},
   "outputs": [
    {
     "name": "stdout",
     "output_type": "stream",
     "text": [
      "as\n",
      "sa\n"
     ]
    }
   ],
   "source": [
    "#a= \"datascience\" #items = d,a,t,a\n",
    "\n",
    "a= [\"as\",\"sa\",\"df\",\"fd\"]\n",
    "\"\"\"\n",
    "0=d   0 =as\n",
    "1=a   1 =sa\n",
    "2=t   2 =df\n",
    "3=s   3 =fd\n",
    "3=a\n",
    "4=s\n",
    "5=c\n",
    "6=i\n",
    "7=e\n",
    "8=n\n",
    "9=c\n",
    "10=e\n",
    "\"\"\"\n",
    "for i in a[0:2]:\n",
    "  print(i)"
   ]
  },
  {
   "cell_type": "code",
   "execution_count": 3,
   "metadata": {},
   "outputs": [
    {
     "name": "stdin",
     "output_type": "stream",
     "text": [
      "Enter a number:  12\n",
      "Enter a number:  34\n",
      "Enter a number:  45\n",
      "Enter a number:  75\n"
     ]
    },
    {
     "name": "stdout",
     "output_type": "stream",
     "text": [
      "Sum exceeded 100. Final total: 166\n"
     ]
    }
   ],
   "source": [
    "total = 0\n",
    "while total <= 100:  \n",
    "    num = int(input(\"Enter a number: \")) \n",
    "    total += num\n",
    "print(\"Sum exceeded 100. Final total:\", total)"
   ]
  },
  {
   "cell_type": "code",
   "execution_count": 4,
   "metadata": {},
   "outputs": [
    {
     "name": "stdout",
     "output_type": "stream",
     "text": [
      "sum of even numbers in the range 1,15 : 56\n"
     ]
    }
   ],
   "source": [
    "total=0\n",
    "for i in range(1,15): #1,2,3,4,5,6,7,8,9,10,11,12,13,14.\n",
    "  if i%2==0: #2,4,6,8,10,12,14\n",
    "    total+=i \n",
    "print((\"sum of even numbers in the range 1,15 :\"),total)"
   ]
  },
  {
   "cell_type": "code",
   "execution_count": 23,
   "metadata": {},
   "outputs": [
    {
     "name": "stdout",
     "output_type": "stream",
     "text": [
      "0\n",
      "1\n",
      "3\n",
      "6\n",
      "10\n",
      "15\n",
      "21\n",
      "28\n",
      "36\n",
      "45\n",
      "55\n",
      "66\n",
      "78\n",
      "91\n",
      "Sum of even numbers from 1 to 100: 105\n"
     ]
    }
   ],
   "source": [
    "total = 0\n",
    "for i in range(1,101): \n",
    "  if total<=101:\n",
    "    print(total)\n",
    "    total+=i\n",
    "print(\"Sum of even numbers from 1 to 100:\", total)"
   ]
  },
  {
   "cell_type": "code",
   "execution_count": 24,
   "metadata": {},
   "outputs": [
    {
     "name": "stdout",
     "output_type": "stream",
     "text": [
      "Sum of even numbers from 1 to 100: 2550\n"
     ]
    }
   ],
   "source": [
    "total=0\n",
    "for i in range(1,100+1): \n",
    "  if i%2==0:\n",
    "    total+= i\n",
    "print(\"Sum of even numbers from 1 to 100:\", total)"
   ]
  },
  {
   "cell_type": "code",
   "execution_count": 25,
   "metadata": {},
   "outputs": [
    {
     "name": "stdin",
     "output_type": "stream",
     "text": [
      "Enter a number:  45\n",
      "Enter a number:  45\n",
      "Enter a number:  45\n"
     ]
    },
    {
     "name": "stdout",
     "output_type": "stream",
     "text": [
      "Sum exceeded 100. Final total: 135\n"
     ]
    }
   ],
   "source": [
    "total = 0\n",
    "while total <= 100:  \n",
    "    num = int(input(\"Enter a number: \")) \n",
    "    total += num   \n",
    "print(\"Sum exceeded 100. Final total:\", total)"
   ]
  },
  {
   "cell_type": "code",
   "execution_count": 26,
   "metadata": {},
   "outputs": [
    {
     "name": "stdout",
     "output_type": "stream",
     "text": [
      "1\n",
      "2\n",
      "3\n"
     ]
    }
   ],
   "source": [
    "num1= [1,2,3,4,5]\n",
    "for i in num1: # 1,2,3,4,5\n",
    "    print(i) #print(3)\n",
    "    if i==3: #true , n=3 ,3==3 \n",
    "        break\n",
    "    "
   ]
  },
  {
   "cell_type": "code",
   "execution_count": 27,
   "metadata": {},
   "outputs": [
    {
     "name": "stdout",
     "output_type": "stream",
     "text": [
      "1\n",
      "2\n",
      "3\n",
      "4\n",
      "5\n"
     ]
    }
   ],
   "source": [
    "i=1\n",
    "while True :\n",
    "    print(i) #5\n",
    "    i += 1 #6\n",
    "    if i > 5: #6>5\n",
    "     break"
   ]
  },
  {
   "cell_type": "code",
   "execution_count": 1,
   "metadata": {},
   "outputs": [
    {
     "name": "stdin",
     "output_type": "stream",
     "text": [
      "How much you love her 34\n"
     ]
    },
    {
     "name": "stdout",
     "output_type": "stream",
     "text": [
      "34\n",
      "Rate from 1 to 10\n"
     ]
    }
   ],
   "source": [
    "yes = 0\n",
    "your_interest = int(input(\"How much you love her\"))\n",
    "print(your_interest)\n",
    "if 1<=your_interest<=10:\n",
    "    money=input(\"Are you rich\")\n",
    "    if money == yes:\n",
    "        print(\"She is yours\")\n",
    "    else:\n",
    "        print(\"she never be yours\")\n",
    "else:\n",
    "    print(\"Rate from 1 to 10\")"
   ]
  },
  {
   "cell_type": "code",
   "execution_count": 2,
   "metadata": {},
   "outputs": [
    {
     "name": "stdout",
     "output_type": "stream",
     "text": [
      "4\n"
     ]
    }
   ],
   "source": [
    "count=0\n",
    "str1 =\"aeAsdfghju\" #var1  string which i need to check \n",
    "vowels= \"aeiouAEIOU\" #var2 vowels\n",
    "for i in str1: #for items in str1 : a, e,A,s,d,f,g,h,j\n",
    " if i in vowels: #if a in vowels =aeiouAEIOU\n",
    "  count+=1 # count= count+1 ,0+1 count =1\n",
    "print(count)"
   ]
  },
  {
   "cell_type": "code",
   "execution_count": 3,
   "metadata": {},
   "outputs": [
    {
     "name": "stdout",
     "output_type": "stream",
     "text": [
      "a 1\n",
      "e 2\n",
      "A 3\n",
      "u 4\n",
      "total count of vowels in str1 4\n"
     ]
    }
   ],
   "source": [
    "count=0\n",
    "str1 =\"aeAsdfghju\" #var1  string which i need to check \n",
    "vowels= \"aeiouAEIOU\" #var2 vowels\n",
    "for i in str1: #for items in str1 : a, e,A,s,d,f,g,h,j,u\n",
    " if i in vowels: #if a in vowels =aeiouAEIOU\n",
    "  count+=1 # count= count+1 ,0+1 count =1\n",
    "  print(i,count)\n",
    "print(\"total count of vowels in str1\", count)"
   ]
  },
  {
   "cell_type": "code",
   "execution_count": 5,
   "metadata": {},
   "outputs": [
    {
     "name": "stdout",
     "output_type": "stream",
     "text": [
      "1\n",
      "2\n",
      "3\n"
     ]
    }
   ],
   "source": [
    "num1= [1,2,3,4,5]  \n",
    "for n in num1: # n= 1,2,3,4,5\n",
    "        if n==4: #\n",
    "         break\n",
    "        print(n)"
   ]
  },
  {
   "cell_type": "code",
   "execution_count": 6,
   "metadata": {},
   "outputs": [
    {
     "name": "stdout",
     "output_type": "stream",
     "text": [
      "1\n",
      "2\n",
      "3\n",
      "4\n",
      "5\n"
     ]
    }
   ],
   "source": [
    "num1= [1,2,3,4,5]  \n",
    "for n in num1: # n= 1,2,3,4,5\n",
    "        if n==6: #\n",
    "         break\n",
    "        print(n)"
   ]
  },
  {
   "cell_type": "code",
   "execution_count": 7,
   "metadata": {},
   "outputs": [
    {
     "name": "stdout",
     "output_type": "stream",
     "text": [
      "1\n",
      "2\n",
      "4\n",
      "5\n"
     ]
    }
   ],
   "source": [
    "num1= [1,2,3,4,5]  \n",
    "for n in num1: # n= 1,2,3,4,5\n",
    "        if n==3: # 3==3\n",
    "         continue\n",
    "        print(n)"
   ]
  },
  {
   "cell_type": "code",
   "execution_count": 10,
   "metadata": {},
   "outputs": [
    {
     "name": "stdout",
     "output_type": "stream",
     "text": [
      "1\n",
      "2\n",
      "3\n",
      "4\n",
      "5\n",
      "6\n",
      "7\n",
      "8\n",
      "10\n"
     ]
    },
    {
     "data": {
      "text/plain": [
       "'\\niteration 1 \\nnum2 =0 . while 0<10 (T) : num2+=1 0+1 num2 =1. if num2==5 continus. 1=5 (f)\\n'"
      ]
     },
     "execution_count": 10,
     "metadata": {},
     "output_type": "execute_result"
    }
   ],
   "source": [
    "num2= 0  # var =num2 : value =0\n",
    "while num2<10: \n",
    "  # until  num2 is less than 10 the while loop will execute . \n",
    "#if num2 is greater than 10 then the condition will go false ,then the loop will be terminated\n",
    "    num2+=1 \n",
    "    if num2==9:\n",
    "        continue\n",
    "    print(num2)\n",
    "\n",
    "\"\"\"\n",
    "iteration 1 \n",
    "num2 =0 . while 0<10 (T) : num2+=1 0+1 num2 =1. if num2==5 continus. 1=5 (f)\n",
    "\"\"\""
   ]
  },
  {
   "cell_type": "code",
   "execution_count": 11,
   "metadata": {},
   "outputs": [
    {
     "name": "stdout",
     "output_type": "stream",
     "text": [
      "2\n",
      "4\n",
      "8\n",
      "10\n"
     ]
    }
   ],
   "source": [
    "num2= 0  # var =num2 : value =0\n",
    "while num2<10: \n",
    "  # until  num2 is less than 10 the while loop will execute . \n",
    "#if num2 is greater than 10 then the condition will go false ,then the loop will be terminated\n",
    "    num2+=2 \n",
    "    if num2==6:\n",
    "        continue\n",
    "    print(num2)"
   ]
  },
  {
   "cell_type": "code",
   "execution_count": 12,
   "metadata": {},
   "outputs": [
    {
     "name": "stdout",
     "output_type": "stream",
     "text": [
      "1\n",
      "2\n",
      "3\n",
      "4\n",
      "6\n",
      "7\n",
      "8\n"
     ]
    }
   ],
   "source": [
    "i=0\n",
    "while True :\n",
    "       i += 1 #0+1 =1 , 1+1 =2, 2+1 =3 , 4+1 =5 ,5+1 =6\n",
    "       if i > 8: # i is greater than 5 then execute break . loop will be terminated\n",
    "        break\n",
    "       if i==5: #3==3 ,true\n",
    "        continue\n",
    "       print(i)"
   ]
  },
  {
   "cell_type": "code",
   "execution_count": 13,
   "metadata": {},
   "outputs": [
    {
     "name": "stdout",
     "output_type": "stream",
     "text": [
      "0\n",
      "1\n",
      "2\n",
      "3\n",
      "4\n",
      "Loop finished/terminated at 3\n",
      "1\n",
      "2\n",
      "3\n",
      "4\n",
      "Loop finished\n"
     ]
    }
   ],
   "source": [
    "for num in range(5): # \n",
    "      print(num)\n",
    "else: \n",
    "    print(\"Loop finished/terminated at 3\")\n",
    "i = 1\n",
    "while i < 5: # 5<5 (F)\n",
    "    print(i) \n",
    "    i += 1\n",
    "else:\n",
    "    print(\"Loop finished\")"
   ]
  },
  {
   "cell_type": "code",
   "execution_count": 4,
   "metadata": {},
   "outputs": [
    {
     "ename": "TypeError",
     "evalue": "can only concatenate str (not \"int\") to str",
     "output_type": "error",
     "traceback": [
      "\u001b[1;31m---------------------------------------------------------------------------\u001b[0m",
      "\u001b[1;31mTypeError\u001b[0m                                 Traceback (most recent call last)",
      "Cell \u001b[1;32mIn[4], line 3\u001b[0m\n\u001b[0;32m      1\u001b[0m name\u001b[38;5;241m=\u001b[39m\u001b[38;5;124m\"\u001b[39m\u001b[38;5;124mhari\u001b[39m\u001b[38;5;124m\"\u001b[39m\n\u001b[0;32m      2\u001b[0m \u001b[38;5;28;01mwhile\u001b[39;00m name\u001b[38;5;241m==\u001b[39m\u001b[38;5;124m\"\u001b[39m\u001b[38;5;124mhari\u001b[39m\u001b[38;5;124m\"\u001b[39m:\n\u001b[1;32m----> 3\u001b[0m     name\u001b[38;5;241m+\u001b[39m\u001b[38;5;241m=\u001b[39m\u001b[38;5;241m0\u001b[39m\n\u001b[0;32m      4\u001b[0m     \u001b[38;5;28;01mif\u001b[39;00m name\u001b[38;5;241m==\u001b[39m\u001b[38;5;124m\"\u001b[39m\u001b[38;5;124mr\u001b[39m\u001b[38;5;124m\"\u001b[39m:\n\u001b[0;32m      5\u001b[0m         \u001b[38;5;28;01mcontinue\u001b[39;00m\n",
      "\u001b[1;31mTypeError\u001b[0m: can only concatenate str (not \"int\") to str"
     ]
    }
   ],
   "source": [
    "name=\"hari\"\n",
    "while name==\"hari\":\n",
    "    name+=0\n",
    "    if name==\"r\":\n",
    "        continue\n",
    "    print(name)"
   ]
  },
  {
   "cell_type": "code",
   "execution_count": 5,
   "metadata": {},
   "outputs": [
    {
     "name": "stdout",
     "output_type": "stream",
     "text": [
      "1\n",
      "2\n",
      "3\n",
      "4\n",
      "6\n",
      "7\n",
      "8\n",
      "9\n",
      "10\n"
     ]
    }
   ],
   "source": [
    "num2=0\n",
    "while num2<10:\n",
    "    num2+=1\n",
    "    if num2==5: #5==5 (T) \n",
    "        continue\n",
    "    print(num2)"
   ]
  },
  {
   "cell_type": "code",
   "execution_count": 6,
   "metadata": {},
   "outputs": [
    {
     "name": "stdout",
     "output_type": "stream",
     "text": [
      "Hari: 1\n",
      "Hari: 2\n",
      "Hari: 3\n",
      "Hari: 4\n",
      "Hari: 6\n",
      "Hari: 7\n",
      "Hari: 8\n",
      "Hari: 9\n",
      "Hari: 10\n"
     ]
    }
   ],
   "source": [
    "hari = 0\n",
    "while hari < 10:\n",
    "    hari += 1\n",
    "    if hari == 5:\n",
    "        continue\n",
    "    print(f\"Hari: {hari}\")    "
   ]
  },
  {
   "cell_type": "code",
   "execution_count": 7,
   "metadata": {},
   "outputs": [
    {
     "name": "stdout",
     "output_type": "stream",
     "text": [
      "0\n",
      "1\n",
      "2\n",
      "3\n",
      "4\n",
      "Loop finished\n",
      "0\n",
      "1\n",
      "2\n",
      "3\n",
      "0\n",
      "1\n",
      "2\n",
      "3\n",
      "4\n",
      "Loop finished\n"
     ]
    }
   ],
   "source": [
    "for num in range(5):    \n",
    "      print(num)  \n",
    "else:\n",
    "    print(\"Loop finished\")\n",
    "for num in range(5):    \n",
    "      print(num)  \n",
    "      if num == 3:\n",
    "        break\n",
    "else:\n",
    "    print(\"Loop finished\")\n",
    "for num in range(5):    \n",
    "      print(num)  \n",
    "      if num == 3:\n",
    "        continue\n",
    "else:\n",
    "    print(\"Loop finished\")"
   ]
  },
  {
   "cell_type": "code",
   "execution_count": 9,
   "metadata": {},
   "outputs": [
    {
     "name": "stdout",
     "output_type": "stream",
     "text": [
      "h\n",
      "a\n",
      "i\n",
      "h\n",
      "a\n",
      "a\n",
      "n\n"
     ]
    }
   ],
   "source": [
    "name=\"hariharan\"\n",
    "for i in name : #\"h\",\"a\",\"r\",\"i\"\n",
    "  if i==\"r\":\n",
    "    continue\n",
    "  print(i)"
   ]
  },
  {
   "cell_type": "code",
   "execution_count": 10,
   "metadata": {},
   "outputs": [
    {
     "name": "stdout",
     "output_type": "stream",
     "text": [
      "1\n",
      "2\n",
      "3\n",
      "4\n",
      "Loop finished\n"
     ]
    }
   ],
   "source": [
    "i = 1\n",
    "while i < 5:\n",
    "    print(i)\n",
    "    i += 1\n",
    "else:\n",
    "    print(\"Loop finished\")"
   ]
  },
  {
   "cell_type": "code",
   "execution_count": 11,
   "metadata": {},
   "outputs": [
    {
     "name": "stdout",
     "output_type": "stream",
     "text": [
      "Hello, World!\n",
      "<class 'str'>\n",
      "10.23\n",
      "<class 'str'>\n",
      "10\n",
      "<class 'str'>\n"
     ]
    }
   ],
   "source": [
    "my_string = \"Hello, World!\"\n",
    "print(my_string)\n",
    "print(type(my_string))\n",
    "\n",
    "str2 =\"10.23\"\n",
    "print(str2)\n",
    "print(type(str2))\n",
    "\n",
    "str3 =\"10\"\n",
    "print(str3)\n",
    "print(type(str3))"
   ]
  },
  {
   "cell_type": "code",
   "execution_count": 12,
   "metadata": {},
   "outputs": [
    {
     "name": "stdout",
     "output_type": "stream",
     "text": [
      "hihihihihi\n"
     ]
    }
   ],
   "source": [
    "str1=\"hi\"\n",
    "print(str1*5)"
   ]
  },
  {
   "cell_type": "code",
   "execution_count": 13,
   "metadata": {},
   "outputs": [
    {
     "name": "stdout",
     "output_type": "stream",
     "text": [
      "----ooooo--------ooooo--------ooooo--------ooooo----\n"
     ]
    }
   ],
   "source": [
    "pattern = \"----ooooo----\"\n",
    "print(pattern*4)"
   ]
  },
  {
   "cell_type": "code",
   "execution_count": 20,
   "metadata": {},
   "outputs": [
    {
     "name": "stdout",
     "output_type": "stream",
     "text": [
      "string: datascience\n",
      "substring: science\n"
     ]
    },
    {
     "data": {
      "text/plain": [
       "'\\nindex   value\\n0        d\\n1        a\\n2        t\\n3        a\\n4        s\\n5        c\\n6        i\\n7        e\\n8        n\\n9        c\\n10       e\\n'"
      ]
     },
     "execution_count": 20,
     "metadata": {},
     "output_type": "execute_result"
    }
   ],
   "source": [
    "str1 =\"datascience\"\n",
    "print(\"string:\",str1)\n",
    "#print only data\n",
    "print(\"substring:\",str1[4:11])\n",
    "\"\"\"\n",
    "index   value\n",
    "0        d\n",
    "1        a\n",
    "2        t\n",
    "3        a\n",
    "4        s\n",
    "5        c\n",
    "6        i\n",
    "7        e\n",
    "8        n\n",
    "9        c\n",
    "10       e\n",
    "\"\"\""
   ]
  },
  {
   "cell_type": "code",
   "execution_count": 7,
   "metadata": {},
   "outputs": [
    {
     "name": "stdout",
     "output_type": "stream",
     "text": [
      "string: datascience\n",
      "substring: datascience\n",
      "reverse: ecneicsatad\n"
     ]
    }
   ],
   "source": [
    "str1 =\"datascience\"\n",
    "print(\"string:\",str1)\n",
    "#print only data\n",
    "print(\"substring:\",str1[:11])\n",
    "print(\"reverse:\",str1[::-1])"
   ]
  },
  {
   "cell_type": "code",
   "execution_count": 10,
   "metadata": {},
   "outputs": [
    {
     "name": "stdout",
     "output_type": "stream",
     "text": [
      "computerscience\n",
      "computerscience\n",
      "computerscience\n",
      "computer\n",
      "cmuesine\n",
      "cpecn\n"
     ]
    }
   ],
   "source": [
    "#10/07/2024 class \n",
    "str2=\"computerscience\"\n",
    "print(str2)\n",
    "print(str2[0:]) #o/p :computerscience \n",
    "print(str2[:15]) #o/p :computerscience\n",
    "print(str2[0:8]) #o/p :computer \n",
    "print(str2[0:15:2]) #[start:end:skip] o/p:cmuesine\n",
    "print(str2[0:15:3]) #cpecn\n",
    "      \n",
    "      \n",
    "      \n",
    "      "
   ]
  },
  {
   "cell_type": "code",
   "execution_count": 11,
   "metadata": {},
   "outputs": [
    {
     "name": "stdout",
     "output_type": "stream",
     "text": [
      "welcome to classroom\n",
      "moorssalc ot emoclew\n",
      "not a palindrome\n"
     ]
    }
   ],
   "source": [
    "str1 =\"welcome to classroom\"\n",
    "str2 =str1[::-1] #reverse\n",
    "print(str1)\n",
    "print(str2)\n",
    "if str1 == str2:\n",
    "  print(\"palindrome\")\n",
    "else:\n",
    "  print(\"not a palindrome\")"
   ]
  },
  {
   "cell_type": "code",
   "execution_count": 12,
   "metadata": {},
   "outputs": [
    {
     "name": "stdout",
     "output_type": "stream",
     "text": [
      "oogoo\n",
      "oogoo\n",
      "palindrome\n"
     ]
    }
   ],
   "source": [
    "str1 =\"oogoo\"\n",
    "str2 =str1[::-1] #reverse\n",
    "print(str1)\n",
    "print(str2)\n",
    "if str1 == str2:\n",
    "  print(\"palindrome\")\n",
    "else:\n",
    "  print(\"not a palindrome\")"
   ]
  },
  {
   "cell_type": "code",
   "execution_count": 13,
   "metadata": {},
   "outputs": [
    {
     "name": "stdout",
     "output_type": "stream",
     "text": [
      "computerscience\n",
      "computerscience\n",
      "computerscience\n",
      "computer\n",
      "science\n",
      "cmuesine\n",
      "cpecn\n",
      "iruo\n",
      "iseum\n"
     ]
    }
   ],
   "source": [
    "str2 =\"computerscience\"\n",
    "print(str2)\n",
    "print(str2[0:]) #o/p :computerscience \n",
    "print(str2[:15]) #o/p :computerscience\n",
    "print(str2[0:8]) #o/p :computer\n",
    "print(str2[8:15]) #o/p :science\n",
    "print(str2[0:15:2]) # [start:end:skip] o/p:cmuesine\n",
    "print(str2[0:15:3]) #cpecn\n",
    "print(str2[10:0:-3]) # icsretupmoc o/p :iruo\n",
    "print(str2[10:0:-2])  #iseum"
   ]
  },
  {
   "cell_type": "code",
   "execution_count": 16,
   "metadata": {},
   "outputs": [
    {
     "name": "stdout",
     "output_type": "stream",
     "text": [
      "lower case: google_meet\n",
      "upper case: GOOGLE_MEET\n",
      "split: ['GoOgle_', 'eet']\n",
      "split: ['GoOgle', 'Meet']\n",
      "title: Hello_World\n",
      "capital: Hello_world\n"
     ]
    }
   ],
   "source": [
    "var1= \"GoOgle_Meet\"\n",
    "var2=\"hello_world\"\n",
    "print(\"lower case:\",var1.lower())\n",
    "print(\"upper case:\",var1.upper())\n",
    "print(\"split:\",var1.split(\"M\"))\n",
    "print(\"split:\",var1.split(\"_\"))\n",
    "print(\"title:\",var2.title())\n",
    "print(\"capital:\",var2.capitalize())"
   ]
  },
  {
   "cell_type": "code",
   "execution_count": 17,
   "metadata": {},
   "outputs": [
    {
     "name": "stdout",
     "output_type": "stream",
     "text": [
      "6\n",
      "6\n",
      "-1\n"
     ]
    },
    {
     "ename": "ValueError",
     "evalue": "substring not found",
     "output_type": "error",
     "traceback": [
      "\u001b[1;31m---------------------------------------------------------------------------\u001b[0m",
      "\u001b[1;31mValueError\u001b[0m                                Traceback (most recent call last)",
      "Cell \u001b[1;32mIn[17], line 8\u001b[0m\n\u001b[0;32m      6\u001b[0m \u001b[38;5;28mprint\u001b[39m(str1\u001b[38;5;241m.\u001b[39mindex(str2)) \u001b[38;5;66;03m#o/p 6\u001b[39;00m\n\u001b[0;32m      7\u001b[0m \u001b[38;5;28mprint\u001b[39m(str1\u001b[38;5;241m.\u001b[39mfind(str3)) \u001b[38;5;66;03m#o/p :-1\u001b[39;00m\n\u001b[1;32m----> 8\u001b[0m \u001b[38;5;28mprint\u001b[39m(str1\u001b[38;5;241m.\u001b[39mindex(str3))\n",
      "\u001b[1;31mValueError\u001b[0m: substring not found"
     ]
    }
   ],
   "source": [
    "str1 = \"Hello hi hi this is abc hi Hello hi!\"\n",
    "str2 = \"hi\"\n",
    "str3 = \"1234\"\n",
    "\n",
    "print(str1.find(str2)) #o/p 6\n",
    "print(str1.index(str2)) #o/p 6\n",
    "print(str1.find(str3)) #o/p :-1\n",
    "print(str1.index(str3))  # error : substring not found"
   ]
  },
  {
   "cell_type": "code",
   "execution_count": 1,
   "metadata": {},
   "outputs": [
    {
     "ename": "NameError",
     "evalue": "name 'str1' is not defined",
     "output_type": "error",
     "traceback": [
      "\u001b[1;31m---------------------------------------------------------------------------\u001b[0m",
      "\u001b[1;31mNameError\u001b[0m                                 Traceback (most recent call last)",
      "Cell \u001b[1;32mIn[1], line 1\u001b[0m\n\u001b[1;32m----> 1\u001b[0m \u001b[38;5;28mprint\u001b[39m(str1\u001b[38;5;241m.\u001b[39mrfind(str2)) \u001b[38;5;66;03m#last occurance\u001b[39;00m\n\u001b[0;32m      2\u001b[0m \u001b[38;5;28mprint\u001b[39m(str1\u001b[38;5;241m.\u001b[39mrindex(str2))\n\u001b[0;32m      3\u001b[0m \u001b[38;5;28mprint\u001b[39m(str1\u001b[38;5;241m.\u001b[39mrfind(str3))\n",
      "\u001b[1;31mNameError\u001b[0m: name 'str1' is not defined"
     ]
    }
   ],
   "source": []
  },
  {
   "cell_type": "code",
   "execution_count": 2,
   "metadata": {},
   "outputs": [
    {
     "name": "stdout",
     "output_type": "stream",
     "text": [
      "33\n",
      "33\n",
      "-1\n",
      "33\n"
     ]
    }
   ],
   "source": [
    "str1 = \"Hello hi hi this is abc hi Hello hi!\"\n",
    "str2 = \"hi\"\n",
    "str3 = \"1234\"\n",
    "print(str1.rfind(str2)) #last occurance\n",
    "print(str1.rindex(str2))\n",
    "print(str1.rfind(str3))\n",
    "print(str1.rindex(str2))"
   ]
  },
  {
   "cell_type": "code",
   "execution_count": 3,
   "metadata": {},
   "outputs": [
    {
     "name": "stdout",
     "output_type": "stream",
     "text": [
      "12/12/2022\n",
      "10-July-2024\n"
     ]
    }
   ],
   "source": [
    "list2 = ['12','12','2022']\n",
    "print(\"/\".join(list2))\n",
    "str1= [\"10\",\"July\",\"2024\"]\n",
    "print(\"-\".join(str1))"
   ]
  },
  {
   "cell_type": "code",
   "execution_count": 4,
   "metadata": {},
   "outputs": [
    {
     "name": "stdout",
     "output_type": "stream",
     "text": [
      "False\n",
      "True\n"
     ]
    }
   ],
   "source": [
    "str5 = \"abdjABCDEFgsdfhs12\"\n",
    "print(str5.isalpha())\n",
    "print(str5.isalnum())"
   ]
  },
  {
   "cell_type": "code",
   "execution_count": 5,
   "metadata": {},
   "outputs": [
    {
     "name": "stdout",
     "output_type": "stream",
     "text": [
      "True\n",
      "True\n",
      "True\n",
      "\n",
      "\n"
     ]
    }
   ],
   "source": [
    "str1 = \"1234556\"\n",
    "print(str1.isnumeric())  #0-9 ,fractional , superscrips , \n",
    "print(str1.isdigit()) #no fractional ,0- 9, superscripts\n",
    "print(str1.isdecimal()) #no fraction , no supersript , only 0-9\n",
    "print(\"\\n\")"
   ]
  },
  {
   "cell_type": "code",
   "execution_count": 9,
   "metadata": {},
   "outputs": [
    {
     "name": "stdout",
     "output_type": "stream",
     "text": [
      "True\n",
      "True\n",
      "True\n",
      "\n",
      "\n"
     ]
    }
   ],
   "source": [
    "float = \"1234556\"\n",
    "print(float.isnumeric())  \n",
    "print(float.isdigit()) \n",
    "print(float.isdecimal()) \n",
    "print(\"\\n\")"
   ]
  },
  {
   "cell_type": "code",
   "execution_count": 10,
   "metadata": {},
   "outputs": [
    {
     "name": "stdout",
     "output_type": "stream",
     "text": [
      "True\n",
      "False\n",
      "False\n"
     ]
    }
   ],
   "source": [
    "str2 = \"123¼½¾\"\n",
    "print(str2.isnumeric()) #accept fractions\n",
    "print(str2.isdigit()) #fractions not accepted\n",
    "print(str2.isdecimal()) #fractions not accepted"
   ]
  },
  {
   "cell_type": "code",
   "execution_count": 11,
   "metadata": {},
   "outputs": [
    {
     "name": "stdout",
     "output_type": "stream",
     "text": [
      "False\n",
      "False\n",
      "False\n",
      "\n",
      "\n",
      "True\n",
      "True\n",
      "False\n"
     ]
    }
   ],
   "source": [
    "str4 = \"-12345\"\n",
    "print(str4.isnumeric())\n",
    "print(str4.isdigit())\n",
    "print(str4.isdecimal())\n",
    "print(\"\\n\")\n",
    "str5 = \"123²³\"\n",
    "print(str5.isnumeric())\n",
    "print(str5.isdigit())\n",
    "print(str5.isdecimal())"
   ]
  },
  {
   "cell_type": "code",
   "execution_count": 12,
   "metadata": {},
   "outputs": [
    {
     "name": "stdout",
     "output_type": "stream",
     "text": [
      "False\n",
      "False\n",
      "False\n",
      "\n",
      "\n"
     ]
    }
   ],
   "source": [
    "str3 = \"23.45\"\n",
    "print(str3.isnumeric())\n",
    "print(str3.isdigit())\n",
    "print(str3.isdecimal())\n",
    "print(\"\\n\")"
   ]
  },
  {
   "cell_type": "code",
   "execution_count": null,
   "metadata": {},
   "outputs": [],
   "source": []
  }
 ],
 "metadata": {
  "colab": {
   "provenance": []
  },
  "kernelspec": {
   "display_name": "Python 3 (ipykernel)",
   "language": "python",
   "name": "python3"
  },
  "language_info": {
   "codemirror_mode": {
    "name": "ipython",
    "version": 3
   },
   "file_extension": ".py",
   "mimetype": "text/x-python",
   "name": "python",
   "nbconvert_exporter": "python",
   "pygments_lexer": "ipython3",
   "version": "3.12.4"
  }
 },
 "nbformat": 4,
 "nbformat_minor": 4
}
