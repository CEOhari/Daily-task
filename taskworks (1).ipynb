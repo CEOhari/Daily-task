{
 "cells": [
  {
   "cell_type": "code",
   "execution_count": 2,
   "id": "initial_id",
   "metadata": {
    "ExecuteTime": {
     "end_time": "2024-07-11T11:31:00.574452Z",
     "start_time": "2024-07-11T11:31:00.562179Z"
    },
    "collapsed": true,
    "jupyter": {
     "outputs_hidden": true
    }
   },
   "outputs": [
    {
     "name": "stdout",
     "output_type": "stream",
     "text": [
      "Welcome to python programming.\n",
      "string: helloworld!\n",
      "substring: oworld\n"
     ]
    }
   ],
   "source": [
    "#Task 1:\n",
    "#Given a string s = \"Hello, world! Welcome to python programming.\", extract the substring \n",
    "#\"world! Welcome to python\" additionally, reverse the extracted substring.\n",
    "\n",
    "str1=\"helloworld!\"\n",
    "print(\"Welcome to python programming.\")\n",
    "print(\"string:\",str1)\n",
    "#print only data\n",
    "print(\"substring:\",str1[4:10])\n"
   ]
  },
  {
   "cell_type": "code",
   "execution_count": 5,
   "id": "21e9c60d0bce9946",
   "metadata": {
    "ExecuteTime": {
     "end_time": "2024-07-11T11:38:24.410520Z",
     "start_time": "2024-07-11T11:38:24.400689Z"
    }
   },
   "outputs": [
    {
     "name": "stdout",
     "output_type": "stream",
     "text": [
      "string: Welcometopycharm\n",
      "substring: lcometopy\n",
      "reverse: mrahcypotemocleW\n"
     ]
    }
   ],
   "source": [
    "str2=\"Welcometopycharm\"\n",
    "print(\"string:\",str2)\n",
    "print(\"substring:\",str2[2:11])\n",
    "print(\"reverse:\",str2[::-1])"
   ]
  },
  {
   "cell_type": "code",
   "execution_count": 6,
   "id": "285bd716616d0501",
   "metadata": {
    "ExecuteTime": {
     "end_time": "2024-07-11T12:03:03.305251Z",
     "start_time": "2024-07-11T12:03:03.299947Z"
    }
   },
   "outputs": [
    {
     "name": "stdout",
     "output_type": "stream",
     "text": [
      "python is,fun and,powerful\n"
     ]
    }
   ],
   "source": [
    "#Task 2: Given a list of lists of strings words = [[\"python\", \"is\"],[\"fun\", \"and\"],\n",
    "#[\"Powerful\"]], join each inner then join these resulting string with a comma and a space,\n",
    "\n",
    "words = [[\"python\", \"is\"], [\"fun\",\"and\"],[\"powerful\"]]\n",
    "\n",
    "#step 1: Join each inner list into a single string\n",
    "joined_inner_lits = [' '.join(inner_list) for inner_list in words]\n",
    "\n",
    "#step 2: join these resulting string with \",\"\n",
    "result = ','.join(joined_inner_lits)\n",
    "print(result)\n"
   ]
  },
  {
   "cell_type": "code",
   "id": "2ff07c629b2d13c3",
   "metadata": {
    "ExecuteTime": {
     "end_time": "2024-07-13T15:34:26.135663Z",
     "start_time": "2024-07-13T15:34:26.116562Z"
    }
   },
   "source": [
    "#Task 3: Given a string s = \"find the position of the first occurrence of 'the' in\n",
    "#sentence.\" find the position of the first occurrence of the substring \"the\".\n",
    "s = \"find the position of the first occurrence of 'the' in sentence.\"\n",
    "\n",
    "# Find the position of the first occurrence of \"the\"\n",
    "position = s.find(\"the\")\n",
    "\n",
    "print(\"Position of the first occurrence of 'the':\", position)"
   ],
   "outputs": [
    {
     "name": "stdout",
     "output_type": "stream",
     "text": [
      "Position of the first occurrence of 'the': 5\n"
     ]
    }
   ],
   "execution_count": 1
  },
  {
   "cell_type": "code",
   "id": "d03809b1f5f069b3",
   "metadata": {
    "ExecuteTime": {
     "end_time": "2024-07-13T15:51:16.147957Z",
     "start_time": "2024-07-13T15:51:16.120268Z"
    }
   },
   "source": [
    "#this sentence.\", find the position of the last occurence of the substring #\"the\" using both rindex and rfind.\n",
    "\n",
    "s = \"locate the last occurrence of the word 'the' in this sentence.\"\n",
    "\n",
    "#Using rindex\n",
    "last_occurrence = s.rindex(\"the\")\n",
    "print(\"Using rindex:\",last_occurrence_index)   "
   ],
   "outputs": [
    {
     "ename": "NameError",
     "evalue": "name 'last_occurrence_index' is not defined",
     "output_type": "error",
     "traceback": [
      "\u001B[1;31m---------------------------------------------------------------------------\u001B[0m",
      "\u001B[1;31mNameError\u001B[0m                                 Traceback (most recent call last)",
      "Cell \u001B[1;32mIn[3], line 7\u001B[0m\n\u001B[0;32m      5\u001B[0m \u001B[38;5;66;03m#Using rindex\u001B[39;00m\n\u001B[0;32m      6\u001B[0m last_occurrence \u001B[38;5;241m=\u001B[39m s\u001B[38;5;241m.\u001B[39mrindex(\u001B[38;5;124m\"\u001B[39m\u001B[38;5;124mthe\u001B[39m\u001B[38;5;124m\"\u001B[39m)\n\u001B[1;32m----> 7\u001B[0m \u001B[38;5;28mprint\u001B[39m(\u001B[38;5;124m\"\u001B[39m\u001B[38;5;124mUsing rindex:\u001B[39m\u001B[38;5;124m\"\u001B[39m,last_occurrence_index)\n",
      "\u001B[1;31mNameError\u001B[0m: name 'last_occurrence_index' is not defined"
     ]
    }
   ],
   "execution_count": 3
  },
  {
   "cell_type": "code",
   "id": "a90c7d011a9e955f",
   "metadata": {
    "ExecuteTime": {
     "end_time": "2024-07-13T17:08:05.950744Z",
     "start_time": "2024-07-13T17:08:05.937299Z"
    }
   },
   "source": [
    "#11/07/2024 \n",
    "#1) check for Alphabetic characters:\n",
    "#write a function that takes accepts as input and returns true if all\n",
    "# characters in the string are alphabetic (isalpha), and False otherwise>\n",
    "str5=\"abdjABCDEFgsd12fh\"\n",
    "print(str5.isalpha())\n",
    "print(str5.isalnum())\n",
    "    \n",
    "\n"
   ],
   "outputs": [
    {
     "name": "stdout",
     "output_type": "stream",
     "text": [
      "False\n",
      "True\n"
     ]
    }
   ],
   "execution_count": 7
  },
  {
   "metadata": {
    "ExecuteTime": {
     "end_time": "2024-07-13T17:13:51.172977Z",
     "start_time": "2024-07-13T17:13:51.166168Z"
    }
   },
   "cell_type": "code",
   "source": [
    "#check for Alphanumeric character:\n",
    "#create a function that accepts a string and returns True if all characters in t\n",
    "#the string are alphanumeric (isalnum), and false otherwise \n",
    "str3=\"123\"\n",
    "str2=\"123r\"\n",
    "st1=\"123#!\"\n",
    "print(str3.isalnum())\n",
    "print(str2.isalpha())\n",
    "print(str1.isalnum())"
   ],
   "id": "77c859fe1386f5b9",
   "outputs": [
    {
     "name": "stdout",
     "output_type": "stream",
     "text": [
      "True\n",
      "False\n",
      "True\n"
     ]
    }
   ],
   "execution_count": 13
  },
  {
   "metadata": {
    "ExecuteTime": {
     "end_time": "2024-07-13T17:16:24.988655Z",
     "start_time": "2024-07-13T17:16:24.978575Z"
    }
   },
   "cell_type": "code",
   "source": [
    "#check for Numeric characters:\n",
    "#write a function that takes a string as input and returns true if all #characters in the string are numeric (isnumeric), and false otherwise.\n",
    "str4=\"1abcdefghijklmnopqrstuvwxyz\"\n",
    "print(str4.isalpha())\n",
    "print(str4.isalnum())"
   ],
   "id": "56eb867acf792815",
   "outputs": [
    {
     "name": "stdout",
     "output_type": "stream",
     "text": [
      "False\n",
      "True\n"
     ]
    }
   ],
   "execution_count": 15
  },
  {
   "metadata": {
    "ExecuteTime": {
     "end_time": "2024-07-13T17:20:51.997341Z",
     "start_time": "2024-07-13T17:20:51.989387Z"
    }
   },
   "cell_type": "code",
   "source": [
    "#write a function that accepts a string and checks if it is in title case \n",
    "#(istitle()). if it is not, convert the string to title()) and return the \n",
    "#converted string.\n",
    "str6=\"Welcometopycharm\"\n",
    "str7=\"Welcometopycharm world\"\n",
    "print(str6.istitle())\n",
    "print(str7.isalpha())\n",
    "print(str7.isalnum())"
   ],
   "id": "c0110cb23f5c7e9c",
   "outputs": [
    {
     "name": "stdout",
     "output_type": "stream",
     "text": [
      "True\n",
      "False\n",
      "False\n"
     ]
    }
   ],
   "execution_count": 18
  },
  {
   "metadata": {
    "ExecuteTime": {
     "end_time": "2024-07-13T17:37:53.774002Z",
     "start_time": "2024-07-13T17:37:53.763387Z"
    }
   },
   "cell_type": "code",
   "source": [
    "#whitespace check:\n",
    "#create a function that takes a string and returns True if the string contains \n",
    "#only whitespace characters(isspace) and False otherwise>\n",
    "#Returns True if all characters in the string are whitespace characters\n",
    "#(e.g., space, tab, newline); otherwise, it returns False>\n",
    "string1 =\"  \" #true\n",
    "string2=\"Hello class\" #false\n",
    "string3=\"\\t\\t\\n\" # \\t =tab \\n =new line#true\n",
    "\n",
    "print(string1.isspace())\n",
    "print(string2.isspace())\n",
    "print(string3.isspace())"
   ],
   "id": "535c6010c9e6c89b",
   "outputs": [
    {
     "name": "stdout",
     "output_type": "stream",
     "text": [
      "True\n",
      "False\n",
      "True\n"
     ]
    }
   ],
   "execution_count": 23
  },
  {
   "metadata": {
    "ExecuteTime": {
     "end_time": "2024-07-13T17:53:45.418676Z",
     "start_time": "2024-07-13T17:53:45.408454Z"
    }
   },
   "cell_type": "code",
   "source": [
    "#string Replacement:\n",
    "#write a function that accepts a string, a target substing, and a replacement \n",
    "#substring. The function should replace all occurences of the target substring \n",
    "#in the original string with the replacement substring(replace()) and return the\n",
    "# modified string>\n",
    "string = \"He sells the green chair\"\n",
    "new_string1 = string.replace(\"sells\", \"Target\")\n",
    "print(new_string1)\n",
    "string = \"He given the green chair\"\n",
    "new_string2 = string.replace(\"given\", \"sells\")\n",
    "print(new_string2)"
   ],
   "id": "f9d0e7d9003c1b1d",
   "outputs": [
    {
     "name": "stdout",
     "output_type": "stream",
     "text": [
      "He Target the green chair\n",
      "He sells the green chair\n"
     ]
    }
   ],
   "execution_count": 29
  },
  {
   "metadata": {
    "ExecuteTime": {
     "end_time": "2024-07-13T17:53:09.323777Z",
     "start_time": "2024-07-13T17:53:09.318101Z"
    }
   },
   "cell_type": "code",
   "source": "",
   "id": "e5b9f8ff0e114e45",
   "outputs": [],
   "execution_count": 28
  },
  {
   "metadata": {},
   "cell_type": "code",
   "outputs": [],
   "execution_count": null,
   "source": "",
   "id": "b8fd0e5a89e191ed"
  }
 ],
 "metadata": {
  "kernelspec": {
   "display_name": "Python 3 (ipykernel)",
   "language": "python",
   "name": "python3"
  },
  "language_info": {
   "codemirror_mode": {
    "name": "ipython",
    "version": 3
   },
   "file_extension": ".py",
   "mimetype": "text/x-python",
   "name": "python",
   "nbconvert_exporter": "python",
   "pygments_lexer": "ipython3",
   "version": "3.11.7"
  }
 },
 "nbformat": 4,
 "nbformat_minor": 5
}
