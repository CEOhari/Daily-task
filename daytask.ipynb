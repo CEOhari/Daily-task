{
 "cells": [
  {
   "metadata": {},
   "cell_type": "markdown",
   "source": "#08/07/2024",
   "id": "9c175adb6fdd68ff"
  },
  {
   "metadata": {
    "ExecuteTime": {
     "end_time": "2024-07-08T13:06:08.709422Z",
     "start_time": "2024-07-08T13:06:08.689773Z"
    }
   },
   "cell_type": "code",
   "source": [
    "count=0\n",
    "str1 =\"aeAsdfghju\" #var1  string which i need to check\n",
    "vowels= \"aeiouAEIOU\" #var2 vowels\n",
    "for i in str1: #for items in str1 : a, e,A,s,d,f,g,h,j\n",
    " if i in vowels: #if a in vowels =aeiouAEIOU\n",
    "  count+=1 # count= count+1 ,0+1 count =1\n",
    "print(count)"
   ],
   "id": "68fa218319cc8ecf",
   "outputs": [
    {
     "name": "stdout",
     "output_type": "stream",
     "text": [
      "4\n"
     ]
    }
   ],
   "execution_count": 1
  },
  {
   "metadata": {
    "ExecuteTime": {
     "end_time": "2024-07-08T13:24:00.058699Z",
     "start_time": "2024-07-08T13:24:00.051507Z"
    }
   },
   "cell_type": "code",
   "source": [
    "count=0\n",
    "str1 =\"aeAsdfghju\" #var1  string which i need to check \n",
    "vowels= \"aeiouAEIOU\" #var2 vowels\n",
    "for i in str1: #for items in str1 : a, e,A,s,d,f,g,h,j,u\n",
    " if i in vowels: #if a in vowels =aeiouAEIOU\n",
    "  count+=1 # count= count+1 ,0+1 count =1\n",
    "  print(i,count)\n",
    "print(\"total count of vowels in str1\", count)"
   ],
   "id": "2d34c480c83f65c4",
   "outputs": [
    {
     "name": "stdout",
     "output_type": "stream",
     "text": [
      "a 1\n",
      "e 2\n",
      "A 3\n",
      "u 4\n",
      "total count of vowels in str1 4\n"
     ]
    }
   ],
   "execution_count": 2
  },
  {
   "metadata": {
    "ExecuteTime": {
     "end_time": "2024-07-10T13:50:14.064155Z",
     "start_time": "2024-07-10T13:50:14.055673Z"
    }
   },
   "cell_type": "code",
   "source": [
    "str1 = \"Hello hi hi this is abc hi Hello hi!\"\n",
    "str2 = \"hi\"\n",
    "str3 = \"1234\"\n",
    "\n",
    "print(str1.find(str2)) #o/p 6\n",
    "print(str1.index(str2)) #o/p 6\n",
    "print(str1.find(str3)) #o/p :-1\n",
    "print(str1.index(str2))  # error : substring not found"
   ],
   "id": "d153717af9fe2b36",
   "outputs": [
    {
     "name": "stdout",
     "output_type": "stream",
     "text": [
      "6\n",
      "6\n",
      "-1\n",
      "6\n"
     ]
    }
   ],
   "execution_count": 2
  },
  {
   "metadata": {
    "ExecuteTime": {
     "end_time": "2024-07-10T13:59:15.978027Z",
     "start_time": "2024-07-10T13:59:15.968420Z"
    }
   },
   "cell_type": "code",
   "source": [
    "str1 = \"Hello hi hi this is abc hi Hello hi!\"\n",
    "str2 = \"hi\"\n",
    "str3 = \"1234\"\n",
    "print(str1.rfind(str2)) #last occurance\n",
    "print(str1.rindex(str2))\n",
    "print(str1.rfind(str3))\n",
    "print(str1.rindex(str2))"
   ],
   "id": "443df63fa217db38",
   "outputs": [
    {
     "name": "stdout",
     "output_type": "stream",
     "text": [
      "33\n",
      "33\n",
      "-1\n",
      "33\n"
     ]
    }
   ],
   "execution_count": 3
  },
  {
   "metadata": {
    "ExecuteTime": {
     "end_time": "2024-07-10T14:14:53.470253Z",
     "start_time": "2024-07-10T14:14:53.461874Z"
    }
   },
   "cell_type": "code",
   "source": [
    "list2 = ['12','12','2022']\n",
    "print(\"/\".join(list2))\n",
    "str1= [\"10\",\"July\",\"2024\"]\n",
    "print(\"-\".join(str1))"
   ],
   "id": "802d1cd7c6243d9",
   "outputs": [
    {
     "name": "stdout",
     "output_type": "stream",
     "text": [
      "12/12/2022\n",
      "10-July-2024\n"
     ]
    }
   ],
   "execution_count": 4
  },
  {
   "metadata": {
    "ExecuteTime": {
     "end_time": "2024-07-10T14:19:49.645351Z",
     "start_time": "2024-07-10T14:19:49.637011Z"
    }
   },
   "cell_type": "code",
   "source": [
    "str5 = \"abdjABCDEFgsdfhs12\"\n",
    "print(str5.isalpha())\n",
    "print(str5.isalnum())"
   ],
   "id": "9f8777492c1f2aee",
   "outputs": [
    {
     "name": "stdout",
     "output_type": "stream",
     "text": [
      "False\n",
      "True\n"
     ]
    }
   ],
   "execution_count": 5
  },
  {
   "metadata": {
    "ExecuteTime": {
     "end_time": "2024-07-10T14:27:49.272818Z",
     "start_time": "2024-07-10T14:27:49.265321Z"
    }
   },
   "cell_type": "code",
   "source": [
    "float = \"1234556\"\n",
    "print(float.isnumeric())  \n",
    "print(float.isdigit()) \n",
    "print(float.isdecimal()) \n",
    "print(\"\\n\")"
   ],
   "id": "54450e58d32ce1cd",
   "outputs": [
    {
     "name": "stdout",
     "output_type": "stream",
     "text": [
      "True\n",
      "True\n",
      "True\n",
      "\n",
      "\n"
     ]
    }
   ],
   "execution_count": 6
  },
  {
   "metadata": {},
   "cell_type": "code",
   "outputs": [],
   "execution_count": null,
   "source": "#12/07/2024",
   "id": "44a01ebb9245bd72"
  },
  {
   "metadata": {
    "ExecuteTime": {
     "end_time": "2024-07-12T13:02:14.783314Z",
     "start_time": "2024-07-12T13:02:14.768952Z"
    }
   },
   "cell_type": "code",
   "source": [
    "#lstrip() , rstrip()\n",
    "string1=\"~~~~~hi~~~~~\" #\"-----hi----\"\n",
    "a=string1.lstrip(\"~\")\n",
    "print(\"lstrip:\",a)\n",
    "b=string1.rstrip(\"~\")\n",
    "print(\"rstrip:\",b)"
   ],
   "id": "ba7732d95733fca6",
   "outputs": [
    {
     "name": "stdout",
     "output_type": "stream",
     "text": [
      "lstrip: hi~~~~~\n",
      "rstrip: ~~~~~hi\n"
     ]
    }
   ],
   "execution_count": 1
  },
  {
   "metadata": {
    "ExecuteTime": {
     "end_time": "2024-07-12T13:14:00.729408Z",
     "start_time": "2024-07-12T13:14:00.721572Z"
    }
   },
   "cell_type": "code",
   "source": [
    "string = \"Hello, This is a python class!\"\n",
    "\n",
    "if string.startswith(\"Hello\"):\n",
    "    print(\"The string starts with 'Hello'\")\n",
    "else:\n",
    "    print(\"The string does not start with 'Hello'\")"
   ],
   "id": "c9325f2355228ff7",
   "outputs": [
    {
     "name": "stdout",
     "output_type": "stream",
     "text": [
      "The string starts with 'Hello'\n"
     ]
    }
   ],
   "execution_count": 2
  },
  {
   "metadata": {
    "ExecuteTime": {
     "end_time": "2024-07-12T13:17:26.315556Z",
     "start_time": "2024-07-12T13:17:26.307901Z"
    }
   },
   "cell_type": "code",
   "source": [
    "string = \"Hello, This is a python class!\"\n",
    "\n",
    "if string.startswith(\"Hello\"):\n",
    "    print(\"The string starts with 'Hello'\")\n",
    "else:\n",
    "    print(\"The string does not start with 'Hello'\")\n",
    "string = \"Hello, This is a python Class!\"\n",
    "if string.endswith(\"Class!\"):\n",
    "    print(\"The string ends with 'Class!'\")\n",
    "else:\n",
    "    print(\"The string does not end with 'Class!'\")\n"
   ],
   "id": "81484d424777e416",
   "outputs": [
    {
     "name": "stdout",
     "output_type": "stream",
     "text": [
      "The string starts with 'Hello'\n",
      "The string ends with 'Class!'\n"
     ]
    }
   ],
   "execution_count": 3
  },
  {
   "metadata": {
    "ExecuteTime": {
     "end_time": "2024-07-12T13:20:21.037271Z",
     "start_time": "2024-07-12T13:20:21.028282Z"
    }
   },
   "cell_type": "code",
   "source": [
    "mystr = \"My favourite TV Series is \\\"Game of Thrones\\\"\"\n",
    "mystr = \"My favourite TV Series is Game of Thrones\"\n",
    "print(mystr)"
   ],
   "id": "9bf90ac17eece04f",
   "outputs": [
    {
     "name": "stdout",
     "output_type": "stream",
     "text": [
      "My favourite TV Series is Game of Thrones\n"
     ]
    }
   ],
   "execution_count": 7
  },
  {
   "metadata": {
    "ExecuteTime": {
     "end_time": "2024-07-12T13:33:04.933177Z",
     "start_time": "2024-07-12T13:33:04.927098Z"
    }
   },
   "cell_type": "code",
   "source": [
    "mystr = \"My favourite TV Series is \\\"Game of Thrones\"  #\\\"substring\\\"\n",
    "print(mystr)\n",
    "\n",
    "str2 =\"\\\\t\\\\t\"\n",
    "print(str2) #o/p: 2spces ,\\t\n",
    "\n",
    "str3 =\"\\\\t\\\\n\"\n",
    "print(str3) #o/p : 1 space\n",
    "\n",
    "str4 = \"a\\\\n\"\n",
    "print(str4)\n",
    "\n",
    "str5 =\"\\t\\t\"\n",
    "print(str5)\n",
    "\n",
    "str6 = \"\\n\\t\"\n",
    "print(str6)"
   ],
   "id": "274d93619d4aee29",
   "outputs": [
    {
     "name": "stdout",
     "output_type": "stream",
     "text": [
      "My favourite TV Series is \"Game of Thrones\n",
      "\\t\\t\n",
      "\\t\\n\n",
      "a\\n\n",
      "\t\t\n",
      "\n",
      "\t\n"
     ]
    }
   ],
   "execution_count": 10
  },
  {
   "metadata": {
    "ExecuteTime": {
     "end_time": "2024-07-12T13:41:01.271500Z",
     "start_time": "2024-07-12T13:41:01.262481Z"
    }
   },
   "cell_type": "code",
   "source": [
    "str1 = \"ABCDEFGHIJ\"\n",
    "for index,items in enumerate(str1):\n",
    "    print(\"Index : \",index)\n",
    "    print(\"Value : \",items)"
   ],
   "id": "9ea6239f162a122f",
   "outputs": [
    {
     "name": "stdout",
     "output_type": "stream",
     "text": [
      "Index :  0\n",
      "Value :  A\n",
      "Index :  1\n",
      "Value :  B\n",
      "Index :  2\n",
      "Value :  C\n",
      "Index :  3\n",
      "Value :  D\n",
      "Index :  4\n",
      "Value :  E\n",
      "Index :  5\n",
      "Value :  F\n",
      "Index :  6\n",
      "Value :  G\n",
      "Index :  7\n",
      "Value :  H\n",
      "Index :  8\n",
      "Value :  I\n",
      "Index :  9\n",
      "Value :  J\n"
     ]
    }
   ],
   "execution_count": 11
  },
  {
   "metadata": {
    "ExecuteTime": {
     "end_time": "2024-07-12T13:41:18.456682Z",
     "start_time": "2024-07-12T13:41:18.449647Z"
    }
   },
   "cell_type": "code",
   "source": [
    "for i ,j in enumerate(str1):\n",
    "  print(\"index:\",i, \"value:\",j)"
   ],
   "id": "9d22fd42103a6c0a",
   "outputs": [
    {
     "name": "stdout",
     "output_type": "stream",
     "text": [
      "index: 0 value: A\n",
      "index: 1 value: B\n",
      "index: 2 value: C\n",
      "index: 3 value: D\n",
      "index: 4 value: E\n",
      "index: 5 value: F\n",
      "index: 6 value: G\n",
      "index: 7 value: H\n",
      "index: 8 value: I\n",
      "index: 9 value: J\n"
     ]
    }
   ],
   "execution_count": 12
  },
  {
   "metadata": {
    "ExecuteTime": {
     "end_time": "2024-07-12T14:02:19.952206Z",
     "start_time": "2024-07-12T14:02:19.944392Z"
    }
   },
   "cell_type": "code",
   "source": [
    "str2= \"asdfg\" #0 =a ,1= s, 2=d ,3 =f ,4 =g\n",
    "for index,items in enumerate(str2):\n",
    "    #first var will store index value , 2nd  var =value/items\n",
    "  \n",
    "  print(index,items) #o/p a s d f g"
   ],
   "id": "d004c1f241b81792",
   "outputs": [
    {
     "name": "stdout",
     "output_type": "stream",
     "text": [
      "0 a\n",
      "1 s\n",
      "2 d\n",
      "3 f\n",
      "4 g\n"
     ]
    }
   ],
   "execution_count": 13
  },
  {
   "metadata": {
    "ExecuteTime": {
     "end_time": "2024-07-12T14:03:07.725321Z",
     "start_time": "2024-07-12T14:03:07.718811Z"
    }
   },
   "cell_type": "code",
   "source": [
    "name = \"ABCD\"\n",
    "age = 30\n",
    "formatted_string = \"My name is %s and I am %d years old.\" % (name, age)\n",
    "print(formatted_string)"
   ],
   "id": "b397f4bbf81a127d",
   "outputs": [
    {
     "name": "stdout",
     "output_type": "stream",
     "text": [
      "My name is ABCD and I am 30 years old.\n"
     ]
    }
   ],
   "execution_count": 14
  },
  {
   "metadata": {},
   "cell_type": "code",
   "outputs": [],
   "execution_count": null,
   "source": "",
   "id": "8914d2a2352bbefa"
  }
 ],
 "metadata": {
  "kernelspec": {
   "display_name": "Python 3",
   "language": "python",
   "name": "python3"
  },
  "language_info": {
   "codemirror_mode": {
    "name": "ipython",
    "version": 2
   },
   "file_extension": ".py",
   "mimetype": "text/x-python",
   "name": "python",
   "nbconvert_exporter": "python",
   "pygments_lexer": "ipython2",
   "version": "2.7.6"
  }
 },
 "nbformat": 4,
 "nbformat_minor": 5
}
